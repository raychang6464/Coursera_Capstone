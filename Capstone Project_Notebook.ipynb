{
 "cells": [
  {
   "cell_type": "markdown",
   "metadata": {},
   "source": [
    "\n",
    "# Avocado Sales vs. Health KPI Analysis"
   ]
  },
  {
   "cell_type": "code",
   "execution_count": 1,
   "metadata": {},
   "outputs": [],
   "source": [
    "%matplotlib inline \n",
    "import numpy as np\n",
    "import pandas as pd\n",
    "import matplotlib.pyplot as plt "
   ]
  },
  {
   "cell_type": "markdown",
   "metadata": {},
   "source": [
    "# Data Understanding Phase"
   ]
  },
  {
   "cell_type": "markdown",
   "metadata": {},
   "source": [
    "# Collecting Initial Data "
   ]
  },
  {
   "cell_type": "code",
   "execution_count": 2,
   "metadata": {},
   "outputs": [],
   "source": [
    "Avocado0=pd.read_csv('C:/Users/RChang/Desktop/Big Data YorkU/Class/Final Project/Dataset/Avocado no KPI Part1.csv')"
   ]
  },
  {
   "cell_type": "code",
   "execution_count": 3,
   "metadata": {},
   "outputs": [],
   "source": [
    "Health0=pd.read_csv('C:/Users/Rchang/Desktop/Big Data YorkU/Class/Final Project/Dataset/Health KPI Part1.csv')"
   ]
  },
  {
   "cell_type": "code",
   "execution_count": 4,
   "metadata": {},
   "outputs": [
    {
     "data": {
      "text/html": [
       "<div>\n",
       "<style scoped>\n",
       "    .dataframe tbody tr th:only-of-type {\n",
       "        vertical-align: middle;\n",
       "    }\n",
       "\n",
       "    .dataframe tbody tr th {\n",
       "        vertical-align: top;\n",
       "    }\n",
       "\n",
       "    .dataframe thead th {\n",
       "        text-align: right;\n",
       "    }\n",
       "</style>\n",
       "<table border=\"1\" class=\"dataframe\">\n",
       "  <thead>\n",
       "    <tr style=\"text-align: right;\">\n",
       "      <th></th>\n",
       "      <th>Unnamed: 0</th>\n",
       "      <th>Date</th>\n",
       "      <th>AveragePrice</th>\n",
       "      <th>Total Volume</th>\n",
       "      <th>4046</th>\n",
       "      <th>4225</th>\n",
       "      <th>4770</th>\n",
       "      <th>Total Bags</th>\n",
       "      <th>Small Bags</th>\n",
       "      <th>Large Bags</th>\n",
       "      <th>XLarge Bags</th>\n",
       "      <th>type</th>\n",
       "      <th>year</th>\n",
       "      <th>region</th>\n",
       "      <th>States</th>\n",
       "    </tr>\n",
       "  </thead>\n",
       "  <tbody>\n",
       "    <tr>\n",
       "      <th>0</th>\n",
       "      <td>0</td>\n",
       "      <td>12/27/2015</td>\n",
       "      <td>1.33</td>\n",
       "      <td>64237</td>\n",
       "      <td>1036.74</td>\n",
       "      <td>54454.85</td>\n",
       "      <td>48.16</td>\n",
       "      <td>8696.87</td>\n",
       "      <td>8603.62</td>\n",
       "      <td>93.25</td>\n",
       "      <td>0.0</td>\n",
       "      <td>conventional</td>\n",
       "      <td>2015</td>\n",
       "      <td>Albany</td>\n",
       "      <td>Albany GA</td>\n",
       "    </tr>\n",
       "    <tr>\n",
       "      <th>1</th>\n",
       "      <td>1</td>\n",
       "      <td>12/20/2015</td>\n",
       "      <td>1.35</td>\n",
       "      <td>54877</td>\n",
       "      <td>674.28</td>\n",
       "      <td>44638.81</td>\n",
       "      <td>58.33</td>\n",
       "      <td>9505.56</td>\n",
       "      <td>9408.07</td>\n",
       "      <td>97.49</td>\n",
       "      <td>0.0</td>\n",
       "      <td>conventional</td>\n",
       "      <td>2015</td>\n",
       "      <td>Albany</td>\n",
       "      <td>Albany GA</td>\n",
       "    </tr>\n",
       "    <tr>\n",
       "      <th>2</th>\n",
       "      <td>2</td>\n",
       "      <td>12/13/2015</td>\n",
       "      <td>0.93</td>\n",
       "      <td>118220</td>\n",
       "      <td>794.70</td>\n",
       "      <td>109149.67</td>\n",
       "      <td>130.50</td>\n",
       "      <td>8145.35</td>\n",
       "      <td>8042.21</td>\n",
       "      <td>103.14</td>\n",
       "      <td>0.0</td>\n",
       "      <td>conventional</td>\n",
       "      <td>2015</td>\n",
       "      <td>Albany</td>\n",
       "      <td>Albany GA</td>\n",
       "    </tr>\n",
       "    <tr>\n",
       "      <th>3</th>\n",
       "      <td>3</td>\n",
       "      <td>12/6/2015</td>\n",
       "      <td>1.08</td>\n",
       "      <td>78992</td>\n",
       "      <td>1132.00</td>\n",
       "      <td>71976.41</td>\n",
       "      <td>72.58</td>\n",
       "      <td>5811.16</td>\n",
       "      <td>5677.40</td>\n",
       "      <td>133.76</td>\n",
       "      <td>0.0</td>\n",
       "      <td>conventional</td>\n",
       "      <td>2015</td>\n",
       "      <td>Albany</td>\n",
       "      <td>Albany GA</td>\n",
       "    </tr>\n",
       "    <tr>\n",
       "      <th>4</th>\n",
       "      <td>4</td>\n",
       "      <td>11/29/2015</td>\n",
       "      <td>1.28</td>\n",
       "      <td>51040</td>\n",
       "      <td>941.48</td>\n",
       "      <td>43838.39</td>\n",
       "      <td>75.78</td>\n",
       "      <td>6183.95</td>\n",
       "      <td>5986.26</td>\n",
       "      <td>197.69</td>\n",
       "      <td>0.0</td>\n",
       "      <td>conventional</td>\n",
       "      <td>2015</td>\n",
       "      <td>Albany</td>\n",
       "      <td>Albany GA</td>\n",
       "    </tr>\n",
       "  </tbody>\n",
       "</table>\n",
       "</div>"
      ],
      "text/plain": [
       "   Unnamed: 0        Date  AveragePrice  Total Volume     4046       4225  \\\n",
       "0           0  12/27/2015          1.33         64237  1036.74   54454.85   \n",
       "1           1  12/20/2015          1.35         54877   674.28   44638.81   \n",
       "2           2  12/13/2015          0.93        118220   794.70  109149.67   \n",
       "3           3   12/6/2015          1.08         78992  1132.00   71976.41   \n",
       "4           4  11/29/2015          1.28         51040   941.48   43838.39   \n",
       "\n",
       "     4770  Total Bags  Small Bags  Large Bags  XLarge Bags          type  \\\n",
       "0   48.16     8696.87     8603.62       93.25          0.0  conventional   \n",
       "1   58.33     9505.56     9408.07       97.49          0.0  conventional   \n",
       "2  130.50     8145.35     8042.21      103.14          0.0  conventional   \n",
       "3   72.58     5811.16     5677.40      133.76          0.0  conventional   \n",
       "4   75.78     6183.95     5986.26      197.69          0.0  conventional   \n",
       "\n",
       "   year  region     States  \n",
       "0  2015  Albany  Albany GA  \n",
       "1  2015  Albany  Albany GA  \n",
       "2  2015  Albany  Albany GA  \n",
       "3  2015  Albany  Albany GA  \n",
       "4  2015  Albany  Albany GA  "
      ]
     },
     "execution_count": 4,
     "metadata": {},
     "output_type": "execute_result"
    }
   ],
   "source": [
    "Avocado0.head()"
   ]
  },
  {
   "cell_type": "code",
   "execution_count": 5,
   "metadata": {},
   "outputs": [
    {
     "data": {
      "text/html": [
       "<div>\n",
       "<style scoped>\n",
       "    .dataframe tbody tr th:only-of-type {\n",
       "        vertical-align: middle;\n",
       "    }\n",
       "\n",
       "    .dataframe tbody tr th {\n",
       "        vertical-align: top;\n",
       "    }\n",
       "\n",
       "    .dataframe thead th {\n",
       "        text-align: right;\n",
       "    }\n",
       "</style>\n",
       "<table border=\"1\" class=\"dataframe\">\n",
       "  <thead>\n",
       "    <tr style=\"text-align: right;\">\n",
       "      <th></th>\n",
       "      <th>States</th>\n",
       "      <th>geoCode</th>\n",
       "      <th>2015+cancer</th>\n",
       "      <th>2015+cardiovascular</th>\n",
       "      <th>2015+stroke</th>\n",
       "      <th>2015+depression</th>\n",
       "      <th>2015+rehab</th>\n",
       "      <th>2015+vaccine</th>\n",
       "      <th>2015+diarrhea</th>\n",
       "      <th>2015+obesity</th>\n",
       "      <th>...</th>\n",
       "      <th>2016+diabetes</th>\n",
       "      <th>2017+cancer</th>\n",
       "      <th>2017+cardiovascular</th>\n",
       "      <th>2017+stroke</th>\n",
       "      <th>2017+depression</th>\n",
       "      <th>2017+rehab</th>\n",
       "      <th>2017+vaccine</th>\n",
       "      <th>2017+diarrhea</th>\n",
       "      <th>2017+obesity</th>\n",
       "      <th>2017+diabetes</th>\n",
       "    </tr>\n",
       "  </thead>\n",
       "  <tbody>\n",
       "    <tr>\n",
       "      <th>0</th>\n",
       "      <td>Albany GA</td>\n",
       "      <td>525</td>\n",
       "      <td>69</td>\n",
       "      <td>53</td>\n",
       "      <td>55</td>\n",
       "      <td>66</td>\n",
       "      <td>53</td>\n",
       "      <td>55</td>\n",
       "      <td>67</td>\n",
       "      <td>65</td>\n",
       "      <td>...</td>\n",
       "      <td>79</td>\n",
       "      <td>63</td>\n",
       "      <td>50</td>\n",
       "      <td>69</td>\n",
       "      <td>62</td>\n",
       "      <td>52</td>\n",
       "      <td>54</td>\n",
       "      <td>73</td>\n",
       "      <td>47</td>\n",
       "      <td>81</td>\n",
       "    </tr>\n",
       "    <tr>\n",
       "      <th>1</th>\n",
       "      <td>Albany GA</td>\n",
       "      <td>525</td>\n",
       "      <td>69</td>\n",
       "      <td>53</td>\n",
       "      <td>55</td>\n",
       "      <td>66</td>\n",
       "      <td>53</td>\n",
       "      <td>55</td>\n",
       "      <td>67</td>\n",
       "      <td>65</td>\n",
       "      <td>...</td>\n",
       "      <td>79</td>\n",
       "      <td>63</td>\n",
       "      <td>50</td>\n",
       "      <td>69</td>\n",
       "      <td>62</td>\n",
       "      <td>52</td>\n",
       "      <td>54</td>\n",
       "      <td>73</td>\n",
       "      <td>47</td>\n",
       "      <td>81</td>\n",
       "    </tr>\n",
       "    <tr>\n",
       "      <th>2</th>\n",
       "      <td>Albany GA</td>\n",
       "      <td>525</td>\n",
       "      <td>69</td>\n",
       "      <td>53</td>\n",
       "      <td>55</td>\n",
       "      <td>66</td>\n",
       "      <td>53</td>\n",
       "      <td>55</td>\n",
       "      <td>67</td>\n",
       "      <td>65</td>\n",
       "      <td>...</td>\n",
       "      <td>79</td>\n",
       "      <td>63</td>\n",
       "      <td>50</td>\n",
       "      <td>69</td>\n",
       "      <td>62</td>\n",
       "      <td>52</td>\n",
       "      <td>54</td>\n",
       "      <td>73</td>\n",
       "      <td>47</td>\n",
       "      <td>81</td>\n",
       "    </tr>\n",
       "    <tr>\n",
       "      <th>3</th>\n",
       "      <td>Albany GA</td>\n",
       "      <td>525</td>\n",
       "      <td>69</td>\n",
       "      <td>53</td>\n",
       "      <td>55</td>\n",
       "      <td>66</td>\n",
       "      <td>53</td>\n",
       "      <td>55</td>\n",
       "      <td>67</td>\n",
       "      <td>65</td>\n",
       "      <td>...</td>\n",
       "      <td>79</td>\n",
       "      <td>63</td>\n",
       "      <td>50</td>\n",
       "      <td>69</td>\n",
       "      <td>62</td>\n",
       "      <td>52</td>\n",
       "      <td>54</td>\n",
       "      <td>73</td>\n",
       "      <td>47</td>\n",
       "      <td>81</td>\n",
       "    </tr>\n",
       "    <tr>\n",
       "      <th>4</th>\n",
       "      <td>Albany GA</td>\n",
       "      <td>525</td>\n",
       "      <td>69</td>\n",
       "      <td>53</td>\n",
       "      <td>55</td>\n",
       "      <td>66</td>\n",
       "      <td>53</td>\n",
       "      <td>55</td>\n",
       "      <td>67</td>\n",
       "      <td>65</td>\n",
       "      <td>...</td>\n",
       "      <td>79</td>\n",
       "      <td>63</td>\n",
       "      <td>50</td>\n",
       "      <td>69</td>\n",
       "      <td>62</td>\n",
       "      <td>52</td>\n",
       "      <td>54</td>\n",
       "      <td>73</td>\n",
       "      <td>47</td>\n",
       "      <td>81</td>\n",
       "    </tr>\n",
       "  </tbody>\n",
       "</table>\n",
       "<p>5 rows × 29 columns</p>\n",
       "</div>"
      ],
      "text/plain": [
       "      States  geoCode  2015+cancer  2015+cardiovascular  2015+stroke  \\\n",
       "0  Albany GA      525           69                   53           55   \n",
       "1  Albany GA      525           69                   53           55   \n",
       "2  Albany GA      525           69                   53           55   \n",
       "3  Albany GA      525           69                   53           55   \n",
       "4  Albany GA      525           69                   53           55   \n",
       "\n",
       "   2015+depression  2015+rehab  2015+vaccine  2015+diarrhea  2015+obesity  \\\n",
       "0               66          53            55             67            65   \n",
       "1               66          53            55             67            65   \n",
       "2               66          53            55             67            65   \n",
       "3               66          53            55             67            65   \n",
       "4               66          53            55             67            65   \n",
       "\n",
       "       ...        2016+diabetes  2017+cancer  2017+cardiovascular  \\\n",
       "0      ...                   79           63                   50   \n",
       "1      ...                   79           63                   50   \n",
       "2      ...                   79           63                   50   \n",
       "3      ...                   79           63                   50   \n",
       "4      ...                   79           63                   50   \n",
       "\n",
       "   2017+stroke  2017+depression  2017+rehab  2017+vaccine  2017+diarrhea  \\\n",
       "0           69               62          52            54             73   \n",
       "1           69               62          52            54             73   \n",
       "2           69               62          52            54             73   \n",
       "3           69               62          52            54             73   \n",
       "4           69               62          52            54             73   \n",
       "\n",
       "   2017+obesity  2017+diabetes  \n",
       "0            47             81  \n",
       "1            47             81  \n",
       "2            47             81  \n",
       "3            47             81  \n",
       "4            47             81  \n",
       "\n",
       "[5 rows x 29 columns]"
      ]
     },
     "execution_count": 5,
     "metadata": {},
     "output_type": "execute_result"
    }
   ],
   "source": [
    "Health0.head()"
   ]
  },
  {
   "cell_type": "code",
   "execution_count": 6,
   "metadata": {
    "scrolled": false
   },
   "outputs": [
    {
     "data": {
      "text/html": [
       "<div>\n",
       "<style scoped>\n",
       "    .dataframe tbody tr th:only-of-type {\n",
       "        vertical-align: middle;\n",
       "    }\n",
       "\n",
       "    .dataframe tbody tr th {\n",
       "        vertical-align: top;\n",
       "    }\n",
       "\n",
       "    .dataframe thead th {\n",
       "        text-align: right;\n",
       "    }\n",
       "</style>\n",
       "<table border=\"1\" class=\"dataframe\">\n",
       "  <thead>\n",
       "    <tr style=\"text-align: right;\">\n",
       "      <th></th>\n",
       "      <th>Unnamed: 0</th>\n",
       "      <th>Date</th>\n",
       "      <th>AveragePrice</th>\n",
       "      <th>Total Volume</th>\n",
       "      <th>4046</th>\n",
       "      <th>4225</th>\n",
       "      <th>4770</th>\n",
       "      <th>Total Bags</th>\n",
       "      <th>Small Bags</th>\n",
       "      <th>Large Bags</th>\n",
       "      <th>XLarge Bags</th>\n",
       "      <th>type</th>\n",
       "      <th>year</th>\n",
       "      <th>region</th>\n",
       "      <th>States</th>\n",
       "    </tr>\n",
       "  </thead>\n",
       "  <tbody>\n",
       "    <tr>\n",
       "      <th>0</th>\n",
       "      <td>0</td>\n",
       "      <td>12/27/2015</td>\n",
       "      <td>1.33</td>\n",
       "      <td>64237</td>\n",
       "      <td>1036.74</td>\n",
       "      <td>54454.85</td>\n",
       "      <td>48.16</td>\n",
       "      <td>8696.87</td>\n",
       "      <td>8603.62</td>\n",
       "      <td>93.25</td>\n",
       "      <td>0.0</td>\n",
       "      <td>conventional</td>\n",
       "      <td>2015</td>\n",
       "      <td>Albany</td>\n",
       "      <td>Albany GA</td>\n",
       "    </tr>\n",
       "    <tr>\n",
       "      <th>1</th>\n",
       "      <td>1</td>\n",
       "      <td>12/20/2015</td>\n",
       "      <td>1.35</td>\n",
       "      <td>54877</td>\n",
       "      <td>674.28</td>\n",
       "      <td>44638.81</td>\n",
       "      <td>58.33</td>\n",
       "      <td>9505.56</td>\n",
       "      <td>9408.07</td>\n",
       "      <td>97.49</td>\n",
       "      <td>0.0</td>\n",
       "      <td>conventional</td>\n",
       "      <td>2015</td>\n",
       "      <td>Albany</td>\n",
       "      <td>Albany GA</td>\n",
       "    </tr>\n",
       "    <tr>\n",
       "      <th>2</th>\n",
       "      <td>2</td>\n",
       "      <td>12/13/2015</td>\n",
       "      <td>0.93</td>\n",
       "      <td>118220</td>\n",
       "      <td>794.70</td>\n",
       "      <td>109149.67</td>\n",
       "      <td>130.50</td>\n",
       "      <td>8145.35</td>\n",
       "      <td>8042.21</td>\n",
       "      <td>103.14</td>\n",
       "      <td>0.0</td>\n",
       "      <td>conventional</td>\n",
       "      <td>2015</td>\n",
       "      <td>Albany</td>\n",
       "      <td>Albany GA</td>\n",
       "    </tr>\n",
       "    <tr>\n",
       "      <th>3</th>\n",
       "      <td>3</td>\n",
       "      <td>12/6/2015</td>\n",
       "      <td>1.08</td>\n",
       "      <td>78992</td>\n",
       "      <td>1132.00</td>\n",
       "      <td>71976.41</td>\n",
       "      <td>72.58</td>\n",
       "      <td>5811.16</td>\n",
       "      <td>5677.40</td>\n",
       "      <td>133.76</td>\n",
       "      <td>0.0</td>\n",
       "      <td>conventional</td>\n",
       "      <td>2015</td>\n",
       "      <td>Albany</td>\n",
       "      <td>Albany GA</td>\n",
       "    </tr>\n",
       "    <tr>\n",
       "      <th>4</th>\n",
       "      <td>4</td>\n",
       "      <td>11/29/2015</td>\n",
       "      <td>1.28</td>\n",
       "      <td>51040</td>\n",
       "      <td>941.48</td>\n",
       "      <td>43838.39</td>\n",
       "      <td>75.78</td>\n",
       "      <td>6183.95</td>\n",
       "      <td>5986.26</td>\n",
       "      <td>197.69</td>\n",
       "      <td>0.0</td>\n",
       "      <td>conventional</td>\n",
       "      <td>2015</td>\n",
       "      <td>Albany</td>\n",
       "      <td>Albany GA</td>\n",
       "    </tr>\n",
       "  </tbody>\n",
       "</table>\n",
       "</div>"
      ],
      "text/plain": [
       "   Unnamed: 0        Date  AveragePrice  Total Volume     4046       4225  \\\n",
       "0           0  12/27/2015          1.33         64237  1036.74   54454.85   \n",
       "1           1  12/20/2015          1.35         54877   674.28   44638.81   \n",
       "2           2  12/13/2015          0.93        118220   794.70  109149.67   \n",
       "3           3   12/6/2015          1.08         78992  1132.00   71976.41   \n",
       "4           4  11/29/2015          1.28         51040   941.48   43838.39   \n",
       "\n",
       "     4770  Total Bags  Small Bags  Large Bags  XLarge Bags          type  \\\n",
       "0   48.16     8696.87     8603.62       93.25          0.0  conventional   \n",
       "1   58.33     9505.56     9408.07       97.49          0.0  conventional   \n",
       "2  130.50     8145.35     8042.21      103.14          0.0  conventional   \n",
       "3   72.58     5811.16     5677.40      133.76          0.0  conventional   \n",
       "4   75.78     6183.95     5986.26      197.69          0.0  conventional   \n",
       "\n",
       "   year  region     States  \n",
       "0  2015  Albany  Albany GA  \n",
       "1  2015  Albany  Albany GA  \n",
       "2  2015  Albany  Albany GA  \n",
       "3  2015  Albany  Albany GA  \n",
       "4  2015  Albany  Albany GA  "
      ]
     },
     "execution_count": 6,
     "metadata": {},
     "output_type": "execute_result"
    }
   ],
   "source": [
    "Avocado1=pd.DataFrame(Avocado0)\n",
    "Avocado1.head()"
   ]
  },
  {
   "cell_type": "code",
   "execution_count": 7,
   "metadata": {},
   "outputs": [
    {
     "data": {
      "text/html": [
       "<div>\n",
       "<style scoped>\n",
       "    .dataframe tbody tr th:only-of-type {\n",
       "        vertical-align: middle;\n",
       "    }\n",
       "\n",
       "    .dataframe tbody tr th {\n",
       "        vertical-align: top;\n",
       "    }\n",
       "\n",
       "    .dataframe thead th {\n",
       "        text-align: right;\n",
       "    }\n",
       "</style>\n",
       "<table border=\"1\" class=\"dataframe\">\n",
       "  <thead>\n",
       "    <tr style=\"text-align: right;\">\n",
       "      <th></th>\n",
       "      <th>States</th>\n",
       "      <th>geoCode</th>\n",
       "      <th>2015+cancer</th>\n",
       "      <th>2015+cardiovascular</th>\n",
       "      <th>2015+stroke</th>\n",
       "      <th>2015+depression</th>\n",
       "      <th>2015+rehab</th>\n",
       "      <th>2015+vaccine</th>\n",
       "      <th>2015+diarrhea</th>\n",
       "      <th>2015+obesity</th>\n",
       "      <th>...</th>\n",
       "      <th>2016+diabetes</th>\n",
       "      <th>2017+cancer</th>\n",
       "      <th>2017+cardiovascular</th>\n",
       "      <th>2017+stroke</th>\n",
       "      <th>2017+depression</th>\n",
       "      <th>2017+rehab</th>\n",
       "      <th>2017+vaccine</th>\n",
       "      <th>2017+diarrhea</th>\n",
       "      <th>2017+obesity</th>\n",
       "      <th>2017+diabetes</th>\n",
       "    </tr>\n",
       "  </thead>\n",
       "  <tbody>\n",
       "    <tr>\n",
       "      <th>0</th>\n",
       "      <td>Albany GA</td>\n",
       "      <td>525</td>\n",
       "      <td>69</td>\n",
       "      <td>53</td>\n",
       "      <td>55</td>\n",
       "      <td>66</td>\n",
       "      <td>53</td>\n",
       "      <td>55</td>\n",
       "      <td>67</td>\n",
       "      <td>65</td>\n",
       "      <td>...</td>\n",
       "      <td>79</td>\n",
       "      <td>63</td>\n",
       "      <td>50</td>\n",
       "      <td>69</td>\n",
       "      <td>62</td>\n",
       "      <td>52</td>\n",
       "      <td>54</td>\n",
       "      <td>73</td>\n",
       "      <td>47</td>\n",
       "      <td>81</td>\n",
       "    </tr>\n",
       "    <tr>\n",
       "      <th>1</th>\n",
       "      <td>Albany GA</td>\n",
       "      <td>525</td>\n",
       "      <td>69</td>\n",
       "      <td>53</td>\n",
       "      <td>55</td>\n",
       "      <td>66</td>\n",
       "      <td>53</td>\n",
       "      <td>55</td>\n",
       "      <td>67</td>\n",
       "      <td>65</td>\n",
       "      <td>...</td>\n",
       "      <td>79</td>\n",
       "      <td>63</td>\n",
       "      <td>50</td>\n",
       "      <td>69</td>\n",
       "      <td>62</td>\n",
       "      <td>52</td>\n",
       "      <td>54</td>\n",
       "      <td>73</td>\n",
       "      <td>47</td>\n",
       "      <td>81</td>\n",
       "    </tr>\n",
       "    <tr>\n",
       "      <th>2</th>\n",
       "      <td>Albany GA</td>\n",
       "      <td>525</td>\n",
       "      <td>69</td>\n",
       "      <td>53</td>\n",
       "      <td>55</td>\n",
       "      <td>66</td>\n",
       "      <td>53</td>\n",
       "      <td>55</td>\n",
       "      <td>67</td>\n",
       "      <td>65</td>\n",
       "      <td>...</td>\n",
       "      <td>79</td>\n",
       "      <td>63</td>\n",
       "      <td>50</td>\n",
       "      <td>69</td>\n",
       "      <td>62</td>\n",
       "      <td>52</td>\n",
       "      <td>54</td>\n",
       "      <td>73</td>\n",
       "      <td>47</td>\n",
       "      <td>81</td>\n",
       "    </tr>\n",
       "    <tr>\n",
       "      <th>3</th>\n",
       "      <td>Albany GA</td>\n",
       "      <td>525</td>\n",
       "      <td>69</td>\n",
       "      <td>53</td>\n",
       "      <td>55</td>\n",
       "      <td>66</td>\n",
       "      <td>53</td>\n",
       "      <td>55</td>\n",
       "      <td>67</td>\n",
       "      <td>65</td>\n",
       "      <td>...</td>\n",
       "      <td>79</td>\n",
       "      <td>63</td>\n",
       "      <td>50</td>\n",
       "      <td>69</td>\n",
       "      <td>62</td>\n",
       "      <td>52</td>\n",
       "      <td>54</td>\n",
       "      <td>73</td>\n",
       "      <td>47</td>\n",
       "      <td>81</td>\n",
       "    </tr>\n",
       "    <tr>\n",
       "      <th>4</th>\n",
       "      <td>Albany GA</td>\n",
       "      <td>525</td>\n",
       "      <td>69</td>\n",
       "      <td>53</td>\n",
       "      <td>55</td>\n",
       "      <td>66</td>\n",
       "      <td>53</td>\n",
       "      <td>55</td>\n",
       "      <td>67</td>\n",
       "      <td>65</td>\n",
       "      <td>...</td>\n",
       "      <td>79</td>\n",
       "      <td>63</td>\n",
       "      <td>50</td>\n",
       "      <td>69</td>\n",
       "      <td>62</td>\n",
       "      <td>52</td>\n",
       "      <td>54</td>\n",
       "      <td>73</td>\n",
       "      <td>47</td>\n",
       "      <td>81</td>\n",
       "    </tr>\n",
       "  </tbody>\n",
       "</table>\n",
       "<p>5 rows × 29 columns</p>\n",
       "</div>"
      ],
      "text/plain": [
       "      States  geoCode  2015+cancer  2015+cardiovascular  2015+stroke  \\\n",
       "0  Albany GA      525           69                   53           55   \n",
       "1  Albany GA      525           69                   53           55   \n",
       "2  Albany GA      525           69                   53           55   \n",
       "3  Albany GA      525           69                   53           55   \n",
       "4  Albany GA      525           69                   53           55   \n",
       "\n",
       "   2015+depression  2015+rehab  2015+vaccine  2015+diarrhea  2015+obesity  \\\n",
       "0               66          53            55             67            65   \n",
       "1               66          53            55             67            65   \n",
       "2               66          53            55             67            65   \n",
       "3               66          53            55             67            65   \n",
       "4               66          53            55             67            65   \n",
       "\n",
       "       ...        2016+diabetes  2017+cancer  2017+cardiovascular  \\\n",
       "0      ...                   79           63                   50   \n",
       "1      ...                   79           63                   50   \n",
       "2      ...                   79           63                   50   \n",
       "3      ...                   79           63                   50   \n",
       "4      ...                   79           63                   50   \n",
       "\n",
       "   2017+stroke  2017+depression  2017+rehab  2017+vaccine  2017+diarrhea  \\\n",
       "0           69               62          52            54             73   \n",
       "1           69               62          52            54             73   \n",
       "2           69               62          52            54             73   \n",
       "3           69               62          52            54             73   \n",
       "4           69               62          52            54             73   \n",
       "\n",
       "   2017+obesity  2017+diabetes  \n",
       "0            47             81  \n",
       "1            47             81  \n",
       "2            47             81  \n",
       "3            47             81  \n",
       "4            47             81  \n",
       "\n",
       "[5 rows x 29 columns]"
      ]
     },
     "execution_count": 7,
     "metadata": {},
     "output_type": "execute_result"
    }
   ],
   "source": [
    "Health1=pd.DataFrame(Health0)\n",
    "Health1.head()"
   ]
  },
  {
   "cell_type": "code",
   "execution_count": 8,
   "metadata": {},
   "outputs": [
    {
     "data": {
      "text/plain": [
       "Unnamed: 0        int64\n",
       "Date             object\n",
       "AveragePrice    float64\n",
       "Total Volume      int64\n",
       "4046            float64\n",
       "4225            float64\n",
       "4770            float64\n",
       "Total Bags      float64\n",
       "Small Bags      float64\n",
       "Large Bags      float64\n",
       "XLarge Bags     float64\n",
       "type             object\n",
       "year              int64\n",
       "region           object\n",
       "States           object\n",
       "dtype: object"
      ]
     },
     "execution_count": 8,
     "metadata": {},
     "output_type": "execute_result"
    }
   ],
   "source": [
    "Avocado1.dtypes"
   ]
  },
  {
   "cell_type": "code",
   "execution_count": 9,
   "metadata": {},
   "outputs": [
    {
     "data": {
      "text/plain": [
       "States                 object\n",
       "geoCode                 int64\n",
       "2015+cancer             int64\n",
       "2015+cardiovascular     int64\n",
       "2015+stroke             int64\n",
       "2015+depression         int64\n",
       "2015+rehab              int64\n",
       "2015+vaccine            int64\n",
       "2015+diarrhea           int64\n",
       "2015+obesity            int64\n",
       "2015+diabetes           int64\n",
       "2016+cancer             int64\n",
       "2016+cardiovascular     int64\n",
       "2016+stroke             int64\n",
       "2016+depression         int64\n",
       "2016+rehab              int64\n",
       "2016+vaccine            int64\n",
       "2016+diarrhea           int64\n",
       "2016+obesity            int64\n",
       "2016+diabetes           int64\n",
       "2017+cancer             int64\n",
       "2017+cardiovascular     int64\n",
       "2017+stroke             int64\n",
       "2017+depression         int64\n",
       "2017+rehab              int64\n",
       "2017+vaccine            int64\n",
       "2017+diarrhea           int64\n",
       "2017+obesity            int64\n",
       "2017+diabetes           int64\n",
       "dtype: object"
      ]
     },
     "execution_count": 9,
     "metadata": {},
     "output_type": "execute_result"
    }
   ],
   "source": [
    "Health1.dtypes"
   ]
  },
  {
   "cell_type": "markdown",
   "metadata": {},
   "source": [
    "# Data Preparation Phase\n",
    "\n",
    "# Select Data(including/excluding data), Clean Data, Contruct Data, Integrate Data (Merging tables), Format Data"
   ]
  },
  {
   "cell_type": "code",
   "execution_count": 10,
   "metadata": {},
   "outputs": [],
   "source": [
    "# Total Volume should an Integar, not Float\n",
    "Avocado1['Total Volume']=Avocado1['Total Volume'].astype(np.int64)\n",
    "Avocado1['Total Bags']=Avocado1['Total Bags'].astype(np.int64)"
   ]
  },
  {
   "cell_type": "code",
   "execution_count": 11,
   "metadata": {},
   "outputs": [
    {
     "data": {
      "text/plain": [
       "Index([u'Unnamed: 0', u'Date', u'AveragePrice', u'Total Volume', u'4046',\n",
       "       u'4225', u'4770', u'Total Bags', u'Small Bags', u'Large Bags',\n",
       "       u'XLarge Bags', u'type', u'year', u'region', u'States'],\n",
       "      dtype='object')"
      ]
     },
     "execution_count": 11,
     "metadata": {},
     "output_type": "execute_result"
    }
   ],
   "source": [
    "Avocado1.columns"
   ]
  },
  {
   "cell_type": "code",
   "execution_count": 12,
   "metadata": {},
   "outputs": [
    {
     "data": {
      "text/html": [
       "<div>\n",
       "<style scoped>\n",
       "    .dataframe tbody tr th:only-of-type {\n",
       "        vertical-align: middle;\n",
       "    }\n",
       "\n",
       "    .dataframe tbody tr th {\n",
       "        vertical-align: top;\n",
       "    }\n",
       "\n",
       "    .dataframe thead th {\n",
       "        text-align: right;\n",
       "    }\n",
       "</style>\n",
       "<table border=\"1\" class=\"dataframe\">\n",
       "  <thead>\n",
       "    <tr style=\"text-align: right;\">\n",
       "      <th></th>\n",
       "      <th>Total Volume</th>\n",
       "      <th>Total Bags</th>\n",
       "      <th>type</th>\n",
       "      <th>year</th>\n",
       "      <th>States</th>\n",
       "    </tr>\n",
       "  </thead>\n",
       "  <tbody>\n",
       "    <tr>\n",
       "      <th>0</th>\n",
       "      <td>64237</td>\n",
       "      <td>8696</td>\n",
       "      <td>conventional</td>\n",
       "      <td>2015</td>\n",
       "      <td>Albany GA</td>\n",
       "    </tr>\n",
       "    <tr>\n",
       "      <th>1</th>\n",
       "      <td>54877</td>\n",
       "      <td>9505</td>\n",
       "      <td>conventional</td>\n",
       "      <td>2015</td>\n",
       "      <td>Albany GA</td>\n",
       "    </tr>\n",
       "    <tr>\n",
       "      <th>2</th>\n",
       "      <td>118220</td>\n",
       "      <td>8145</td>\n",
       "      <td>conventional</td>\n",
       "      <td>2015</td>\n",
       "      <td>Albany GA</td>\n",
       "    </tr>\n",
       "    <tr>\n",
       "      <th>3</th>\n",
       "      <td>78992</td>\n",
       "      <td>5811</td>\n",
       "      <td>conventional</td>\n",
       "      <td>2015</td>\n",
       "      <td>Albany GA</td>\n",
       "    </tr>\n",
       "    <tr>\n",
       "      <th>4</th>\n",
       "      <td>51040</td>\n",
       "      <td>6183</td>\n",
       "      <td>conventional</td>\n",
       "      <td>2015</td>\n",
       "      <td>Albany GA</td>\n",
       "    </tr>\n",
       "  </tbody>\n",
       "</table>\n",
       "</div>"
      ],
      "text/plain": [
       "   Total Volume  Total Bags          type  year     States\n",
       "0         64237        8696  conventional  2015  Albany GA\n",
       "1         54877        9505  conventional  2015  Albany GA\n",
       "2        118220        8145  conventional  2015  Albany GA\n",
       "3         78992        5811  conventional  2015  Albany GA\n",
       "4         51040        6183  conventional  2015  Albany GA"
      ]
     },
     "execution_count": 12,
     "metadata": {},
     "output_type": "execute_result"
    }
   ],
   "source": [
    "# Remove all the irrelevant columns\n",
    "Avocado2=Avocado1.drop(columns=['Unnamed: 0','Date', 'AveragePrice','4046','4225', '4770','Small Bags', 'Large Bags','XLarge Bags','region'])\n",
    "Avocado2.head()"
   ]
  },
  {
   "cell_type": "code",
   "execution_count": 13,
   "metadata": {},
   "outputs": [
    {
     "data": {
      "text/plain": [
       "Index([u'States', u'geoCode', u'2015+cancer', u'2015+cardiovascular',\n",
       "       u'2015+stroke', u'2015+depression', u'2015+rehab', u'2015+vaccine',\n",
       "       u'2015+diarrhea', u'2015+obesity', u'2015+diabetes', u'2016+cancer',\n",
       "       u'2016+cardiovascular', u'2016+stroke', u'2016+depression',\n",
       "       u'2016+rehab', u'2016+vaccine', u'2016+diarrhea', u'2016+obesity',\n",
       "       u'2016+diabetes', u'2017+cancer', u'2017+cardiovascular',\n",
       "       u'2017+stroke', u'2017+depression', u'2017+rehab', u'2017+vaccine',\n",
       "       u'2017+diarrhea', u'2017+obesity', u'2017+diabetes'],\n",
       "      dtype='object')"
      ]
     },
     "execution_count": 13,
     "metadata": {},
     "output_type": "execute_result"
    }
   ],
   "source": [
    "Health1.columns"
   ]
  },
  {
   "cell_type": "code",
   "execution_count": 14,
   "metadata": {},
   "outputs": [
    {
     "data": {
      "text/html": [
       "<div>\n",
       "<style scoped>\n",
       "    .dataframe tbody tr th:only-of-type {\n",
       "        vertical-align: middle;\n",
       "    }\n",
       "\n",
       "    .dataframe tbody tr th {\n",
       "        vertical-align: top;\n",
       "    }\n",
       "\n",
       "    .dataframe thead th {\n",
       "        text-align: right;\n",
       "    }\n",
       "</style>\n",
       "<table border=\"1\" class=\"dataframe\">\n",
       "  <thead>\n",
       "    <tr style=\"text-align: right;\">\n",
       "      <th></th>\n",
       "      <th>States</th>\n",
       "      <th>geoCode</th>\n",
       "      <th>2015+cardiovascular</th>\n",
       "      <th>2015+stroke</th>\n",
       "      <th>2015+diabetes</th>\n",
       "      <th>2016+cardiovascular</th>\n",
       "      <th>2016+stroke</th>\n",
       "      <th>2016+diabetes</th>\n",
       "      <th>2017+cardiovascular</th>\n",
       "      <th>2017+stroke</th>\n",
       "      <th>2017+diabetes</th>\n",
       "    </tr>\n",
       "  </thead>\n",
       "  <tbody>\n",
       "    <tr>\n",
       "      <th>0</th>\n",
       "      <td>Albany GA</td>\n",
       "      <td>525</td>\n",
       "      <td>53</td>\n",
       "      <td>55</td>\n",
       "      <td>82</td>\n",
       "      <td>67</td>\n",
       "      <td>67</td>\n",
       "      <td>79</td>\n",
       "      <td>50</td>\n",
       "      <td>69</td>\n",
       "      <td>81</td>\n",
       "    </tr>\n",
       "    <tr>\n",
       "      <th>1</th>\n",
       "      <td>Albany GA</td>\n",
       "      <td>525</td>\n",
       "      <td>53</td>\n",
       "      <td>55</td>\n",
       "      <td>82</td>\n",
       "      <td>67</td>\n",
       "      <td>67</td>\n",
       "      <td>79</td>\n",
       "      <td>50</td>\n",
       "      <td>69</td>\n",
       "      <td>81</td>\n",
       "    </tr>\n",
       "    <tr>\n",
       "      <th>2</th>\n",
       "      <td>Albany GA</td>\n",
       "      <td>525</td>\n",
       "      <td>53</td>\n",
       "      <td>55</td>\n",
       "      <td>82</td>\n",
       "      <td>67</td>\n",
       "      <td>67</td>\n",
       "      <td>79</td>\n",
       "      <td>50</td>\n",
       "      <td>69</td>\n",
       "      <td>81</td>\n",
       "    </tr>\n",
       "    <tr>\n",
       "      <th>3</th>\n",
       "      <td>Albany GA</td>\n",
       "      <td>525</td>\n",
       "      <td>53</td>\n",
       "      <td>55</td>\n",
       "      <td>82</td>\n",
       "      <td>67</td>\n",
       "      <td>67</td>\n",
       "      <td>79</td>\n",
       "      <td>50</td>\n",
       "      <td>69</td>\n",
       "      <td>81</td>\n",
       "    </tr>\n",
       "    <tr>\n",
       "      <th>4</th>\n",
       "      <td>Albany GA</td>\n",
       "      <td>525</td>\n",
       "      <td>53</td>\n",
       "      <td>55</td>\n",
       "      <td>82</td>\n",
       "      <td>67</td>\n",
       "      <td>67</td>\n",
       "      <td>79</td>\n",
       "      <td>50</td>\n",
       "      <td>69</td>\n",
       "      <td>81</td>\n",
       "    </tr>\n",
       "  </tbody>\n",
       "</table>\n",
       "</div>"
      ],
      "text/plain": [
       "      States  geoCode  2015+cardiovascular  2015+stroke  2015+diabetes  \\\n",
       "0  Albany GA      525                   53           55             82   \n",
       "1  Albany GA      525                   53           55             82   \n",
       "2  Albany GA      525                   53           55             82   \n",
       "3  Albany GA      525                   53           55             82   \n",
       "4  Albany GA      525                   53           55             82   \n",
       "\n",
       "   2016+cardiovascular  2016+stroke  2016+diabetes  2017+cardiovascular  \\\n",
       "0                   67           67             79                   50   \n",
       "1                   67           67             79                   50   \n",
       "2                   67           67             79                   50   \n",
       "3                   67           67             79                   50   \n",
       "4                   67           67             79                   50   \n",
       "\n",
       "   2017+stroke  2017+diabetes  \n",
       "0           69             81  \n",
       "1           69             81  \n",
       "2           69             81  \n",
       "3           69             81  \n",
       "4           69             81  "
      ]
     },
     "execution_count": 14,
     "metadata": {},
     "output_type": "execute_result"
    }
   ],
   "source": [
    "# Remove all the irrelevant columns\n",
    "Health2=Health1.drop(columns=[u'2015+depression', u'2015+rehab', u'2015+vaccine','2015+diarrhea','2016+depression',\n",
    "       u'2016+rehab', u'2016+vaccine',u'2017+depression', u'2017+rehab', u'2017+vaccine','2016+diarrhea','2017+diarrhea',\n",
    "                              '2015+obesity','2016+obesity','2017+obesity','2015+cancer','2016+cancer','2017+cancer'])\n",
    "Health2.head()"
   ]
  },
  {
   "cell_type": "markdown",
   "metadata": {},
   "source": [
    "# Merge Avocado2 Table and Health2 Table by using States as the Key"
   ]
  },
  {
   "cell_type": "code",
   "execution_count": 15,
   "metadata": {},
   "outputs": [
    {
     "data": {
      "text/html": [
       "<div>\n",
       "<style scoped>\n",
       "    .dataframe tbody tr th:only-of-type {\n",
       "        vertical-align: middle;\n",
       "    }\n",
       "\n",
       "    .dataframe tbody tr th {\n",
       "        vertical-align: top;\n",
       "    }\n",
       "\n",
       "    .dataframe thead th {\n",
       "        text-align: right;\n",
       "    }\n",
       "</style>\n",
       "<table border=\"1\" class=\"dataframe\">\n",
       "  <thead>\n",
       "    <tr style=\"text-align: right;\">\n",
       "      <th></th>\n",
       "      <th>Total Volume</th>\n",
       "      <th>Total Bags</th>\n",
       "      <th>type</th>\n",
       "      <th>year</th>\n",
       "      <th>States</th>\n",
       "      <th>geoCode</th>\n",
       "      <th>2015+cardiovascular</th>\n",
       "      <th>2015+stroke</th>\n",
       "      <th>2015+diabetes</th>\n",
       "      <th>2016+cardiovascular</th>\n",
       "      <th>2016+stroke</th>\n",
       "      <th>2016+diabetes</th>\n",
       "      <th>2017+cardiovascular</th>\n",
       "      <th>2017+stroke</th>\n",
       "      <th>2017+diabetes</th>\n",
       "    </tr>\n",
       "  </thead>\n",
       "  <tbody>\n",
       "    <tr>\n",
       "      <th>0</th>\n",
       "      <td>64237</td>\n",
       "      <td>8696</td>\n",
       "      <td>conventional</td>\n",
       "      <td>2015</td>\n",
       "      <td>Albany GA</td>\n",
       "      <td>525</td>\n",
       "      <td>53</td>\n",
       "      <td>55</td>\n",
       "      <td>82</td>\n",
       "      <td>67</td>\n",
       "      <td>67</td>\n",
       "      <td>79</td>\n",
       "      <td>50</td>\n",
       "      <td>69</td>\n",
       "      <td>81</td>\n",
       "    </tr>\n",
       "    <tr>\n",
       "      <th>1</th>\n",
       "      <td>54877</td>\n",
       "      <td>9505</td>\n",
       "      <td>conventional</td>\n",
       "      <td>2015</td>\n",
       "      <td>Albany GA</td>\n",
       "      <td>525</td>\n",
       "      <td>53</td>\n",
       "      <td>55</td>\n",
       "      <td>82</td>\n",
       "      <td>67</td>\n",
       "      <td>67</td>\n",
       "      <td>79</td>\n",
       "      <td>50</td>\n",
       "      <td>69</td>\n",
       "      <td>81</td>\n",
       "    </tr>\n",
       "    <tr>\n",
       "      <th>2</th>\n",
       "      <td>118220</td>\n",
       "      <td>8145</td>\n",
       "      <td>conventional</td>\n",
       "      <td>2015</td>\n",
       "      <td>Albany GA</td>\n",
       "      <td>525</td>\n",
       "      <td>53</td>\n",
       "      <td>55</td>\n",
       "      <td>82</td>\n",
       "      <td>67</td>\n",
       "      <td>67</td>\n",
       "      <td>79</td>\n",
       "      <td>50</td>\n",
       "      <td>69</td>\n",
       "      <td>81</td>\n",
       "    </tr>\n",
       "    <tr>\n",
       "      <th>3</th>\n",
       "      <td>78992</td>\n",
       "      <td>5811</td>\n",
       "      <td>conventional</td>\n",
       "      <td>2015</td>\n",
       "      <td>Albany GA</td>\n",
       "      <td>525</td>\n",
       "      <td>53</td>\n",
       "      <td>55</td>\n",
       "      <td>82</td>\n",
       "      <td>67</td>\n",
       "      <td>67</td>\n",
       "      <td>79</td>\n",
       "      <td>50</td>\n",
       "      <td>69</td>\n",
       "      <td>81</td>\n",
       "    </tr>\n",
       "    <tr>\n",
       "      <th>4</th>\n",
       "      <td>51040</td>\n",
       "      <td>6183</td>\n",
       "      <td>conventional</td>\n",
       "      <td>2015</td>\n",
       "      <td>Albany GA</td>\n",
       "      <td>525</td>\n",
       "      <td>53</td>\n",
       "      <td>55</td>\n",
       "      <td>82</td>\n",
       "      <td>67</td>\n",
       "      <td>67</td>\n",
       "      <td>79</td>\n",
       "      <td>50</td>\n",
       "      <td>69</td>\n",
       "      <td>81</td>\n",
       "    </tr>\n",
       "  </tbody>\n",
       "</table>\n",
       "</div>"
      ],
      "text/plain": [
       "   Total Volume  Total Bags          type  year     States  geoCode  \\\n",
       "0         64237        8696  conventional  2015  Albany GA      525   \n",
       "1         54877        9505  conventional  2015  Albany GA      525   \n",
       "2        118220        8145  conventional  2015  Albany GA      525   \n",
       "3         78992        5811  conventional  2015  Albany GA      525   \n",
       "4         51040        6183  conventional  2015  Albany GA      525   \n",
       "\n",
       "   2015+cardiovascular  2015+stroke  2015+diabetes  2016+cardiovascular  \\\n",
       "0                   53           55             82                   67   \n",
       "1                   53           55             82                   67   \n",
       "2                   53           55             82                   67   \n",
       "3                   53           55             82                   67   \n",
       "4                   53           55             82                   67   \n",
       "\n",
       "   2016+stroke  2016+diabetes  2017+cardiovascular  2017+stroke  2017+diabetes  \n",
       "0           67             79                   50           69             81  \n",
       "1           67             79                   50           69             81  \n",
       "2           67             79                   50           69             81  \n",
       "3           67             79                   50           69             81  \n",
       "4           67             79                   50           69             81  "
      ]
     },
     "execution_count": 15,
     "metadata": {},
     "output_type": "execute_result"
    }
   ],
   "source": [
    "\n",
    "Research0=Avocado2.merge(Health2, on=\"States\", left_index=True, right_index=True)\n",
    "Research0.head()"
   ]
  },
  {
   "cell_type": "code",
   "execution_count": 16,
   "metadata": {},
   "outputs": [
    {
     "data": {
      "text/html": [
       "<div>\n",
       "<style scoped>\n",
       "    .dataframe tbody tr th:only-of-type {\n",
       "        vertical-align: middle;\n",
       "    }\n",
       "\n",
       "    .dataframe tbody tr th {\n",
       "        vertical-align: top;\n",
       "    }\n",
       "\n",
       "    .dataframe thead th {\n",
       "        text-align: right;\n",
       "    }\n",
       "</style>\n",
       "<table border=\"1\" class=\"dataframe\">\n",
       "  <thead>\n",
       "    <tr style=\"text-align: right;\">\n",
       "      <th></th>\n",
       "      <th>Total Volume</th>\n",
       "      <th>Total Bags</th>\n",
       "      <th>type</th>\n",
       "      <th>year</th>\n",
       "      <th>States</th>\n",
       "      <th>geoCode</th>\n",
       "      <th>2015+cardiovascular</th>\n",
       "      <th>2015+stroke</th>\n",
       "      <th>2015+diabetes</th>\n",
       "      <th>2016+cardiovascular</th>\n",
       "      <th>2016+stroke</th>\n",
       "      <th>2016+diabetes</th>\n",
       "      <th>2017+cardiovascular</th>\n",
       "      <th>2017+stroke</th>\n",
       "      <th>2017+diabetes</th>\n",
       "    </tr>\n",
       "  </thead>\n",
       "  <tbody>\n",
       "    <tr>\n",
       "      <th>0</th>\n",
       "      <td>64237</td>\n",
       "      <td>8696</td>\n",
       "      <td>conventional</td>\n",
       "      <td>2015</td>\n",
       "      <td>Albany GA</td>\n",
       "      <td>525</td>\n",
       "      <td>53</td>\n",
       "      <td>55</td>\n",
       "      <td>82</td>\n",
       "      <td>67</td>\n",
       "      <td>67</td>\n",
       "      <td>79</td>\n",
       "      <td>50</td>\n",
       "      <td>69</td>\n",
       "      <td>81</td>\n",
       "    </tr>\n",
       "    <tr>\n",
       "      <th>1</th>\n",
       "      <td>54877</td>\n",
       "      <td>9505</td>\n",
       "      <td>conventional</td>\n",
       "      <td>2015</td>\n",
       "      <td>Albany GA</td>\n",
       "      <td>525</td>\n",
       "      <td>53</td>\n",
       "      <td>55</td>\n",
       "      <td>82</td>\n",
       "      <td>67</td>\n",
       "      <td>67</td>\n",
       "      <td>79</td>\n",
       "      <td>50</td>\n",
       "      <td>69</td>\n",
       "      <td>81</td>\n",
       "    </tr>\n",
       "    <tr>\n",
       "      <th>2</th>\n",
       "      <td>118220</td>\n",
       "      <td>8145</td>\n",
       "      <td>conventional</td>\n",
       "      <td>2015</td>\n",
       "      <td>Albany GA</td>\n",
       "      <td>525</td>\n",
       "      <td>53</td>\n",
       "      <td>55</td>\n",
       "      <td>82</td>\n",
       "      <td>67</td>\n",
       "      <td>67</td>\n",
       "      <td>79</td>\n",
       "      <td>50</td>\n",
       "      <td>69</td>\n",
       "      <td>81</td>\n",
       "    </tr>\n",
       "    <tr>\n",
       "      <th>3</th>\n",
       "      <td>78992</td>\n",
       "      <td>5811</td>\n",
       "      <td>conventional</td>\n",
       "      <td>2015</td>\n",
       "      <td>Albany GA</td>\n",
       "      <td>525</td>\n",
       "      <td>53</td>\n",
       "      <td>55</td>\n",
       "      <td>82</td>\n",
       "      <td>67</td>\n",
       "      <td>67</td>\n",
       "      <td>79</td>\n",
       "      <td>50</td>\n",
       "      <td>69</td>\n",
       "      <td>81</td>\n",
       "    </tr>\n",
       "    <tr>\n",
       "      <th>4</th>\n",
       "      <td>51040</td>\n",
       "      <td>6183</td>\n",
       "      <td>conventional</td>\n",
       "      <td>2015</td>\n",
       "      <td>Albany GA</td>\n",
       "      <td>525</td>\n",
       "      <td>53</td>\n",
       "      <td>55</td>\n",
       "      <td>82</td>\n",
       "      <td>67</td>\n",
       "      <td>67</td>\n",
       "      <td>79</td>\n",
       "      <td>50</td>\n",
       "      <td>69</td>\n",
       "      <td>81</td>\n",
       "    </tr>\n",
       "  </tbody>\n",
       "</table>\n",
       "</div>"
      ],
      "text/plain": [
       "   Total Volume  Total Bags          type  year     States  geoCode  \\\n",
       "0         64237        8696  conventional  2015  Albany GA      525   \n",
       "1         54877        9505  conventional  2015  Albany GA      525   \n",
       "2        118220        8145  conventional  2015  Albany GA      525   \n",
       "3         78992        5811  conventional  2015  Albany GA      525   \n",
       "4         51040        6183  conventional  2015  Albany GA      525   \n",
       "\n",
       "   2015+cardiovascular  2015+stroke  2015+diabetes  2016+cardiovascular  \\\n",
       "0                   53           55             82                   67   \n",
       "1                   53           55             82                   67   \n",
       "2                   53           55             82                   67   \n",
       "3                   53           55             82                   67   \n",
       "4                   53           55             82                   67   \n",
       "\n",
       "   2016+stroke  2016+diabetes  2017+cardiovascular  2017+stroke  2017+diabetes  \n",
       "0           67             79                   50           69             81  \n",
       "1           67             79                   50           69             81  \n",
       "2           67             79                   50           69             81  \n",
       "3           67             79                   50           69             81  \n",
       "4           67             79                   50           69             81  "
      ]
     },
     "execution_count": 16,
     "metadata": {},
     "output_type": "execute_result"
    }
   ],
   "source": [
    "# Remove all the * value\n",
    "Research0.drop(Research0.loc[Research0['States']=='*'].index, inplace=True)\n",
    "Research0.head()"
   ]
  },
  {
   "cell_type": "code",
   "execution_count": 17,
   "metadata": {},
   "outputs": [
    {
     "data": {
      "text/plain": [
       "Index([u'Total Volume', u'Total Bags', u'type', u'year', u'States', u'geoCode',\n",
       "       u'2015+cardiovascular', u'2015+stroke', u'2015+diabetes',\n",
       "       u'2016+cardiovascular', u'2016+stroke', u'2016+diabetes',\n",
       "       u'2017+cardiovascular', u'2017+stroke', u'2017+diabetes'],\n",
       "      dtype='object')"
      ]
     },
     "execution_count": 17,
     "metadata": {},
     "output_type": "execute_result"
    }
   ],
   "source": [
    "Research0.columns"
   ]
  },
  {
   "cell_type": "code",
   "execution_count": 18,
   "metadata": {},
   "outputs": [
    {
     "data": {
      "text/html": [
       "<div>\n",
       "<style scoped>\n",
       "    .dataframe tbody tr th:only-of-type {\n",
       "        vertical-align: middle;\n",
       "    }\n",
       "\n",
       "    .dataframe tbody tr th {\n",
       "        vertical-align: top;\n",
       "    }\n",
       "\n",
       "    .dataframe thead th {\n",
       "        text-align: right;\n",
       "    }\n",
       "</style>\n",
       "<table border=\"1\" class=\"dataframe\">\n",
       "  <thead>\n",
       "    <tr style=\"text-align: right;\">\n",
       "      <th></th>\n",
       "      <th>States</th>\n",
       "      <th>year</th>\n",
       "      <th>Total Bags</th>\n",
       "      <th>2015+stroke</th>\n",
       "      <th>2017+cardiovascular</th>\n",
       "      <th>2016+diabetes</th>\n",
       "      <th>2015+cardiovascular</th>\n",
       "      <th>2016+cardiovascular</th>\n",
       "      <th>2016+stroke</th>\n",
       "      <th>2017+stroke</th>\n",
       "      <th>2017+diabetes</th>\n",
       "      <th>Total Volume</th>\n",
       "      <th>2015+diabetes</th>\n",
       "    </tr>\n",
       "  </thead>\n",
       "  <tbody>\n",
       "    <tr>\n",
       "      <th>0</th>\n",
       "      <td>Albany GA</td>\n",
       "      <td>2015</td>\n",
       "      <td>719600</td>\n",
       "      <td>55</td>\n",
       "      <td>50</td>\n",
       "      <td>79</td>\n",
       "      <td>53</td>\n",
       "      <td>67</td>\n",
       "      <td>67</td>\n",
       "      <td>69</td>\n",
       "      <td>81</td>\n",
       "      <td>4029895</td>\n",
       "      <td>82</td>\n",
       "    </tr>\n",
       "    <tr>\n",
       "      <th>1</th>\n",
       "      <td>Albany GA</td>\n",
       "      <td>2016</td>\n",
       "      <td>838248</td>\n",
       "      <td>55</td>\n",
       "      <td>50</td>\n",
       "      <td>79</td>\n",
       "      <td>53</td>\n",
       "      <td>67</td>\n",
       "      <td>67</td>\n",
       "      <td>69</td>\n",
       "      <td>81</td>\n",
       "      <td>5264337</td>\n",
       "      <td>82</td>\n",
       "    </tr>\n",
       "    <tr>\n",
       "      <th>2</th>\n",
       "      <td>Albany GA</td>\n",
       "      <td>2017</td>\n",
       "      <td>835454</td>\n",
       "      <td>55</td>\n",
       "      <td>50</td>\n",
       "      <td>79</td>\n",
       "      <td>53</td>\n",
       "      <td>67</td>\n",
       "      <td>67</td>\n",
       "      <td>69</td>\n",
       "      <td>81</td>\n",
       "      <td>5231580</td>\n",
       "      <td>82</td>\n",
       "    </tr>\n",
       "    <tr>\n",
       "      <th>3</th>\n",
       "      <td>Atlanta GA</td>\n",
       "      <td>2015</td>\n",
       "      <td>2996945</td>\n",
       "      <td>50</td>\n",
       "      <td>37</td>\n",
       "      <td>73</td>\n",
       "      <td>45</td>\n",
       "      <td>45</td>\n",
       "      <td>58</td>\n",
       "      <td>62</td>\n",
       "      <td>72</td>\n",
       "      <td>23231698</td>\n",
       "      <td>64</td>\n",
       "    </tr>\n",
       "    <tr>\n",
       "      <th>4</th>\n",
       "      <td>Atlanta GA</td>\n",
       "      <td>2016</td>\n",
       "      <td>9976683</td>\n",
       "      <td>50</td>\n",
       "      <td>37</td>\n",
       "      <td>73</td>\n",
       "      <td>45</td>\n",
       "      <td>45</td>\n",
       "      <td>58</td>\n",
       "      <td>62</td>\n",
       "      <td>72</td>\n",
       "      <td>28326878</td>\n",
       "      <td>64</td>\n",
       "    </tr>\n",
       "  </tbody>\n",
       "</table>\n",
       "</div>"
      ],
      "text/plain": [
       "       States  year  Total Bags  2015+stroke  2017+cardiovascular  \\\n",
       "0   Albany GA  2015      719600           55                   50   \n",
       "1   Albany GA  2016      838248           55                   50   \n",
       "2   Albany GA  2017      835454           55                   50   \n",
       "3  Atlanta GA  2015     2996945           50                   37   \n",
       "4  Atlanta GA  2016     9976683           50                   37   \n",
       "\n",
       "   2016+diabetes  2015+cardiovascular  2016+cardiovascular  2016+stroke  \\\n",
       "0             79                   53                   67           67   \n",
       "1             79                   53                   67           67   \n",
       "2             79                   53                   67           67   \n",
       "3             73                   45                   45           58   \n",
       "4             73                   45                   45           58   \n",
       "\n",
       "   2017+stroke  2017+diabetes  Total Volume  2015+diabetes  \n",
       "0           69             81       4029895             82  \n",
       "1           69             81       5264337             82  \n",
       "2           69             81       5231580             82  \n",
       "3           62             72      23231698             64  \n",
       "4           62             72      28326878             64  "
      ]
     },
     "execution_count": 18,
     "metadata": {},
     "output_type": "execute_result"
    }
   ],
   "source": [
    "# Find out what's the sum of Total Volume and bags in each year, and what are the KPIs\n",
    "Research1=Research0.groupby(['States','year'], as_index=False).agg({'Total Volume': 'sum', 'Total Bags': 'sum', '2015+cardiovascular':'mean', \n",
    "                                                          '2015+stroke':'mean', '2015+diabetes':'mean','2016+cardiovascular':'mean', \n",
    "                                                          '2016+stroke':'mean', '2016+diabetes':'mean','2017+cardiovascular':'mean', \n",
    "                                                          '2017+stroke':'mean', '2017+diabetes':'mean'})\n",
    "Research1.head()"
   ]
  },
  {
   "cell_type": "markdown",
   "metadata": {},
   "source": [
    "# Remove/Replace incorrect(duplicate) information for each diseases and for each year"
   ]
  },
  {
   "cell_type": "code",
   "execution_count": 19,
   "metadata": {
    "scrolled": true
   },
   "outputs": [
    {
     "data": {
      "text/html": [
       "<div>\n",
       "<style scoped>\n",
       "    .dataframe tbody tr th:only-of-type {\n",
       "        vertical-align: middle;\n",
       "    }\n",
       "\n",
       "    .dataframe tbody tr th {\n",
       "        vertical-align: top;\n",
       "    }\n",
       "\n",
       "    .dataframe thead th {\n",
       "        text-align: right;\n",
       "    }\n",
       "</style>\n",
       "<table border=\"1\" class=\"dataframe\">\n",
       "  <thead>\n",
       "    <tr style=\"text-align: right;\">\n",
       "      <th></th>\n",
       "      <th>States</th>\n",
       "      <th>year</th>\n",
       "      <th>Total Bags</th>\n",
       "      <th>2015+stroke</th>\n",
       "      <th>2017+cardiovascular</th>\n",
       "      <th>2016+diabetes</th>\n",
       "      <th>2015+cardiovascular</th>\n",
       "      <th>2016+cardiovascular</th>\n",
       "      <th>2016+stroke</th>\n",
       "      <th>2017+stroke</th>\n",
       "      <th>2017+diabetes</th>\n",
       "      <th>Total Volume</th>\n",
       "      <th>2015+diabetes</th>\n",
       "    </tr>\n",
       "  </thead>\n",
       "  <tbody>\n",
       "    <tr>\n",
       "      <th>0</th>\n",
       "      <td>Albany GA</td>\n",
       "      <td>2015</td>\n",
       "      <td>719600</td>\n",
       "      <td>55</td>\n",
       "      <td>n</td>\n",
       "      <td>n</td>\n",
       "      <td>53</td>\n",
       "      <td>n</td>\n",
       "      <td>n</td>\n",
       "      <td>n</td>\n",
       "      <td>n</td>\n",
       "      <td>4029895</td>\n",
       "      <td>82</td>\n",
       "    </tr>\n",
       "    <tr>\n",
       "      <th>1</th>\n",
       "      <td>Albany GA</td>\n",
       "      <td>2016</td>\n",
       "      <td>838248</td>\n",
       "      <td>n</td>\n",
       "      <td>n</td>\n",
       "      <td>79</td>\n",
       "      <td>n</td>\n",
       "      <td>67</td>\n",
       "      <td>67</td>\n",
       "      <td>n</td>\n",
       "      <td>n</td>\n",
       "      <td>5264337</td>\n",
       "      <td>n</td>\n",
       "    </tr>\n",
       "    <tr>\n",
       "      <th>2</th>\n",
       "      <td>Albany GA</td>\n",
       "      <td>2017</td>\n",
       "      <td>835454</td>\n",
       "      <td>n</td>\n",
       "      <td>50</td>\n",
       "      <td>n</td>\n",
       "      <td>n</td>\n",
       "      <td>n</td>\n",
       "      <td>n</td>\n",
       "      <td>69</td>\n",
       "      <td>81</td>\n",
       "      <td>5231580</td>\n",
       "      <td>n</td>\n",
       "    </tr>\n",
       "    <tr>\n",
       "      <th>3</th>\n",
       "      <td>Atlanta GA</td>\n",
       "      <td>2015</td>\n",
       "      <td>2996945</td>\n",
       "      <td>50</td>\n",
       "      <td>n</td>\n",
       "      <td>n</td>\n",
       "      <td>45</td>\n",
       "      <td>n</td>\n",
       "      <td>n</td>\n",
       "      <td>n</td>\n",
       "      <td>n</td>\n",
       "      <td>23231698</td>\n",
       "      <td>64</td>\n",
       "    </tr>\n",
       "    <tr>\n",
       "      <th>4</th>\n",
       "      <td>Atlanta GA</td>\n",
       "      <td>2016</td>\n",
       "      <td>9976683</td>\n",
       "      <td>n</td>\n",
       "      <td>n</td>\n",
       "      <td>73</td>\n",
       "      <td>n</td>\n",
       "      <td>45</td>\n",
       "      <td>58</td>\n",
       "      <td>n</td>\n",
       "      <td>n</td>\n",
       "      <td>28326878</td>\n",
       "      <td>n</td>\n",
       "    </tr>\n",
       "  </tbody>\n",
       "</table>\n",
       "</div>"
      ],
      "text/plain": [
       "       States  year  Total Bags 2015+stroke 2017+cardiovascular 2016+diabetes  \\\n",
       "0   Albany GA  2015      719600          55                   n             n   \n",
       "1   Albany GA  2016      838248           n                   n            79   \n",
       "2   Albany GA  2017      835454           n                  50             n   \n",
       "3  Atlanta GA  2015     2996945          50                   n             n   \n",
       "4  Atlanta GA  2016     9976683           n                   n            73   \n",
       "\n",
       "  2015+cardiovascular 2016+cardiovascular 2016+stroke 2017+stroke  \\\n",
       "0                  53                   n           n           n   \n",
       "1                   n                  67          67           n   \n",
       "2                   n                   n           n          69   \n",
       "3                  45                   n           n           n   \n",
       "4                   n                  45          58           n   \n",
       "\n",
       "  2017+diabetes  Total Volume 2015+diabetes  \n",
       "0             n       4029895            82  \n",
       "1             n       5264337             n  \n",
       "2            81       5231580             n  \n",
       "3             n      23231698            64  \n",
       "4             n      28326878             n  "
      ]
     },
     "execution_count": 19,
     "metadata": {},
     "output_type": "execute_result"
    }
   ],
   "source": [
    "Research1.loc[Research1['year']==2015,['2016+cardiovascular','2016+stroke','2016+diabetes',\n",
    "       '2017+cardiovascular','2017+stroke','2017+diabetes']]='n'\n",
    "Research1.loc[Research1['year']==2016,['2015+cardiovascular','2015+stroke','2015+diabetes',\n",
    "       '2017+cardiovascular','2017+stroke','2017+diabetes']]='n'\n",
    "Research1.loc[Research1['year']==2017,['2015+cardiovascular','2015+stroke','2015+diabetes',\n",
    "       '2016+cardiovascular','2016+stroke','2016+diabetes']]='n'\n",
    "Research1.head()"
   ]
  },
  {
   "cell_type": "code",
   "execution_count": 20,
   "metadata": {},
   "outputs": [
    {
     "data": {
      "text/plain": [
       "Index([u'States', u'year', u'Total Bags', u'2015+stroke',\n",
       "       u'2017+cardiovascular', u'2016+diabetes', u'2015+cardiovascular',\n",
       "       u'2016+cardiovascular', u'2016+stroke', u'2017+stroke',\n",
       "       u'2017+diabetes', u'Total Volume', u'2015+diabetes'],\n",
       "      dtype='object')"
      ]
     },
     "execution_count": 20,
     "metadata": {},
     "output_type": "execute_result"
    }
   ],
   "source": [
    "# Organizing the Columns \n",
    "Research1.columns"
   ]
  },
  {
   "cell_type": "markdown",
   "metadata": {},
   "source": [
    "# Data (table) is ready for testing\n",
    "\n",
    "\n",
    "\n",
    "============================================================="
   ]
  },
  {
   "cell_type": "code",
   "execution_count": 21,
   "metadata": {},
   "outputs": [
    {
     "data": {
      "text/html": [
       "<div>\n",
       "<style scoped>\n",
       "    .dataframe tbody tr th:only-of-type {\n",
       "        vertical-align: middle;\n",
       "    }\n",
       "\n",
       "    .dataframe tbody tr th {\n",
       "        vertical-align: top;\n",
       "    }\n",
       "\n",
       "    .dataframe thead th {\n",
       "        text-align: right;\n",
       "    }\n",
       "</style>\n",
       "<table border=\"1\" class=\"dataframe\">\n",
       "  <thead>\n",
       "    <tr style=\"text-align: right;\">\n",
       "      <th></th>\n",
       "      <th>States</th>\n",
       "      <th>year</th>\n",
       "      <th>Total Volume</th>\n",
       "      <th>Total Bags</th>\n",
       "      <th>2015+stroke</th>\n",
       "      <th>2015+cardiovascular</th>\n",
       "      <th>2015+diabetes</th>\n",
       "      <th>2016+stroke</th>\n",
       "      <th>2016+cardiovascular</th>\n",
       "      <th>2016+diabetes</th>\n",
       "      <th>2017+stroke</th>\n",
       "      <th>2017+cardiovascular</th>\n",
       "      <th>2017+diabetes</th>\n",
       "    </tr>\n",
       "  </thead>\n",
       "  <tbody>\n",
       "    <tr>\n",
       "      <th>0</th>\n",
       "      <td>Albany GA</td>\n",
       "      <td>2015</td>\n",
       "      <td>4029895</td>\n",
       "      <td>719600</td>\n",
       "      <td>55</td>\n",
       "      <td>53</td>\n",
       "      <td>82</td>\n",
       "      <td>n</td>\n",
       "      <td>n</td>\n",
       "      <td>n</td>\n",
       "      <td>n</td>\n",
       "      <td>n</td>\n",
       "      <td>n</td>\n",
       "    </tr>\n",
       "    <tr>\n",
       "      <th>1</th>\n",
       "      <td>Albany GA</td>\n",
       "      <td>2016</td>\n",
       "      <td>5264337</td>\n",
       "      <td>838248</td>\n",
       "      <td>n</td>\n",
       "      <td>n</td>\n",
       "      <td>n</td>\n",
       "      <td>67</td>\n",
       "      <td>67</td>\n",
       "      <td>79</td>\n",
       "      <td>n</td>\n",
       "      <td>n</td>\n",
       "      <td>n</td>\n",
       "    </tr>\n",
       "    <tr>\n",
       "      <th>2</th>\n",
       "      <td>Albany GA</td>\n",
       "      <td>2017</td>\n",
       "      <td>5231580</td>\n",
       "      <td>835454</td>\n",
       "      <td>n</td>\n",
       "      <td>n</td>\n",
       "      <td>n</td>\n",
       "      <td>n</td>\n",
       "      <td>n</td>\n",
       "      <td>n</td>\n",
       "      <td>69</td>\n",
       "      <td>50</td>\n",
       "      <td>81</td>\n",
       "    </tr>\n",
       "    <tr>\n",
       "      <th>3</th>\n",
       "      <td>Atlanta GA</td>\n",
       "      <td>2015</td>\n",
       "      <td>23231698</td>\n",
       "      <td>2996945</td>\n",
       "      <td>50</td>\n",
       "      <td>45</td>\n",
       "      <td>64</td>\n",
       "      <td>n</td>\n",
       "      <td>n</td>\n",
       "      <td>n</td>\n",
       "      <td>n</td>\n",
       "      <td>n</td>\n",
       "      <td>n</td>\n",
       "    </tr>\n",
       "    <tr>\n",
       "      <th>4</th>\n",
       "      <td>Atlanta GA</td>\n",
       "      <td>2016</td>\n",
       "      <td>28326878</td>\n",
       "      <td>9976683</td>\n",
       "      <td>n</td>\n",
       "      <td>n</td>\n",
       "      <td>n</td>\n",
       "      <td>58</td>\n",
       "      <td>45</td>\n",
       "      <td>73</td>\n",
       "      <td>n</td>\n",
       "      <td>n</td>\n",
       "      <td>n</td>\n",
       "    </tr>\n",
       "  </tbody>\n",
       "</table>\n",
       "</div>"
      ],
      "text/plain": [
       "       States  year  Total Volume  Total Bags 2015+stroke 2015+cardiovascular  \\\n",
       "0   Albany GA  2015       4029895      719600          55                  53   \n",
       "1   Albany GA  2016       5264337      838248           n                   n   \n",
       "2   Albany GA  2017       5231580      835454           n                   n   \n",
       "3  Atlanta GA  2015      23231698     2996945          50                  45   \n",
       "4  Atlanta GA  2016      28326878     9976683           n                   n   \n",
       "\n",
       "  2015+diabetes 2016+stroke 2016+cardiovascular 2016+diabetes 2017+stroke  \\\n",
       "0            82           n                   n             n           n   \n",
       "1             n          67                  67            79           n   \n",
       "2             n           n                   n             n          69   \n",
       "3            64           n                   n             n           n   \n",
       "4             n          58                  45            73           n   \n",
       "\n",
       "  2017+cardiovascular 2017+diabetes  \n",
       "0                   n             n  \n",
       "1                   n             n  \n",
       "2                  50            81  \n",
       "3                   n             n  \n",
       "4                   n             n  "
      ]
     },
     "execution_count": 21,
     "metadata": {},
     "output_type": "execute_result"
    }
   ],
   "source": [
    "Research2=Research1[['States','year','Total Volume','Total Bags','2015+stroke','2015+cardiovascular','2015+diabetes',\n",
    "                     '2016+stroke','2016+cardiovascular','2016+diabetes','2017+stroke',\n",
    "                     '2017+cardiovascular','2017+diabetes']]\n",
    "Research2.head()"
   ]
  },
  {
   "cell_type": "code",
   "execution_count": 22,
   "metadata": {},
   "outputs": [],
   "source": [
    "# Charts \n",
    "import seaborn as sns\n",
    "import statsmodels.formula.api as smf\n",
    "from sklearn.linear_model import LinearRegression\n",
    "from sklearn import metrics\n",
    "from sklearn.model_selection  import train_test_split"
   ]
  },
  {
   "cell_type": "code",
   "execution_count": 23,
   "metadata": {},
   "outputs": [
    {
     "data": {
      "text/plain": [
       "States                 object\n",
       "year                    int64\n",
       "Total Volume            int64\n",
       "Total Bags              int64\n",
       "2015+stroke            object\n",
       "2015+cardiovascular    object\n",
       "2015+diabetes          object\n",
       "2016+stroke            object\n",
       "2016+cardiovascular    object\n",
       "2016+diabetes          object\n",
       "2017+stroke            object\n",
       "2017+cardiovascular    object\n",
       "2017+diabetes          object\n",
       "dtype: object"
      ]
     },
     "execution_count": 23,
     "metadata": {},
     "output_type": "execute_result"
    }
   ],
   "source": [
    "Research2.dtypes"
   ]
  },
  {
   "cell_type": "code",
   "execution_count": 24,
   "metadata": {},
   "outputs": [
    {
     "name": "stderr",
     "output_type": "stream",
     "text": [
      "C:\\Users\\RChang\\AppData\\Local\\Continuum\\anaconda2\\lib\\site-packages\\ipykernel_launcher.py:5: FutureWarning: convert_objects is deprecated.  To re-infer data dtypes for object columns, use DataFrame.infer_objects()\n",
      "For all other conversions use the data-type specific converters pd.to_datetime, pd.to_timedelta and pd.to_numeric.\n",
      "  \"\"\"\n"
     ]
    }
   ],
   "source": [
    "Research2[['2015+stroke','2015+cardiovascular','2015+diabetes',\n",
    "          '2016+stroke','2016+cardiovascular','2016+diabetes','2017+stroke',\n",
    "          '2017+cardiovascular','2017+diabetes']]=Research2[['2015+stroke','2015+cardiovascular','2015+diabetes',\n",
    "          '2016+stroke','2016+cardiovascular','2016+diabetes','2017+stroke',\n",
    "          '2017+cardiovascular','2017+diabetes']].convert_objects(convert_numeric=True)"
   ]
  },
  {
   "cell_type": "code",
   "execution_count": 25,
   "metadata": {},
   "outputs": [
    {
     "data": {
      "text/plain": [
       "States                  object\n",
       "year                     int64\n",
       "Total Volume             int64\n",
       "Total Bags               int64\n",
       "2015+stroke            float64\n",
       "2015+cardiovascular    float64\n",
       "2015+diabetes          float64\n",
       "2016+stroke            float64\n",
       "2016+cardiovascular    float64\n",
       "2016+diabetes          float64\n",
       "2017+stroke            float64\n",
       "2017+cardiovascular    float64\n",
       "2017+diabetes          float64\n",
       "dtype: object"
      ]
     },
     "execution_count": 25,
     "metadata": {},
     "output_type": "execute_result"
    }
   ],
   "source": [
    "Research2.dtypes"
   ]
  },
  {
   "cell_type": "code",
   "execution_count": 26,
   "metadata": {
    "scrolled": true
   },
   "outputs": [],
   "source": [
    "Sales2015=Research2[Research2['year'] == 2015].groupby('year')['Total Volume'].mean()\n",
    "Sales2016=Research2[Research2['year'] == 2016].groupby('year')['Total Volume'].mean()\n",
    "Sales2017=Research2[Research2['year'] == 2017].groupby('year')['Total Volume'].mean()\n",
    "Sales0=pd.concat([Sales2015,Sales2016,Sales2017])"
   ]
  },
  {
   "cell_type": "code",
   "execution_count": 27,
   "metadata": {},
   "outputs": [
    {
     "data": {
      "text/html": [
       "<div>\n",
       "<style scoped>\n",
       "    .dataframe tbody tr th:only-of-type {\n",
       "        vertical-align: middle;\n",
       "    }\n",
       "\n",
       "    .dataframe tbody tr th {\n",
       "        vertical-align: top;\n",
       "    }\n",
       "\n",
       "    .dataframe thead th {\n",
       "        text-align: right;\n",
       "    }\n",
       "</style>\n",
       "<table border=\"1\" class=\"dataframe\">\n",
       "  <thead>\n",
       "    <tr style=\"text-align: right;\">\n",
       "      <th></th>\n",
       "      <th>year</th>\n",
       "      <th>Total Volume</th>\n",
       "    </tr>\n",
       "  </thead>\n",
       "  <tbody>\n",
       "    <tr>\n",
       "      <th>0</th>\n",
       "      <td>2015</td>\n",
       "      <td>2.364509e+07</td>\n",
       "    </tr>\n",
       "    <tr>\n",
       "      <th>1</th>\n",
       "      <td>2016</td>\n",
       "      <td>2.614094e+07</td>\n",
       "    </tr>\n",
       "    <tr>\n",
       "      <th>2</th>\n",
       "      <td>2017</td>\n",
       "      <td>2.654523e+07</td>\n",
       "    </tr>\n",
       "  </tbody>\n",
       "</table>\n",
       "</div>"
      ],
      "text/plain": [
       "   year  Total Volume\n",
       "0  2015  2.364509e+07\n",
       "1  2016  2.614094e+07\n",
       "2  2017  2.654523e+07"
      ]
     },
     "execution_count": 27,
     "metadata": {},
     "output_type": "execute_result"
    }
   ],
   "source": [
    "# year is index not column, fix \n",
    "Sales1=Sales0.reset_index()\n",
    "Sales1"
   ]
  },
  {
   "cell_type": "code",
   "execution_count": 28,
   "metadata": {},
   "outputs": [
    {
     "data": {
      "image/png": "[encoded data removed]",
      "text/plain": [
       "<Figure size 432x288 with 1 Axes>"
      ]
     },
     "metadata": {},
     "output_type": "display_data"
    }
   ],
   "source": [
    "#sales from 2015 - 2017\n",
    "Chart1=Sales1.plot.bar(x='year', y=['Total Volume'], rot=0)"
   ]
  },
  {
   "cell_type": "code",
   "execution_count": 29,
   "metadata": {},
   "outputs": [
    {
     "data": {
      "image/png": "[encoded data removed]",
      "text/plain": [
       "<Figure size 432x288 with 1 Axes>"
      ]
     },
     "metadata": {},
     "output_type": "display_data"
    }
   ],
   "source": [
    "Chart2=Sales1.plot.line(x='year', y=['Total Volume'])"
   ]
  },
  {
   "cell_type": "code",
   "execution_count": 30,
   "metadata": {},
   "outputs": [],
   "source": [
    "# Let's take a look at the KPI"
   ]
  },
  {
   "cell_type": "code",
   "execution_count": 31,
   "metadata": {
    "scrolled": true
   },
   "outputs": [
    {
     "data": {
      "text/html": [
       "<div>\n",
       "<style scoped>\n",
       "    .dataframe tbody tr th:only-of-type {\n",
       "        vertical-align: middle;\n",
       "    }\n",
       "\n",
       "    .dataframe tbody tr th {\n",
       "        vertical-align: top;\n",
       "    }\n",
       "\n",
       "    .dataframe thead th {\n",
       "        text-align: right;\n",
       "    }\n",
       "</style>\n",
       "<table border=\"1\" class=\"dataframe\">\n",
       "  <thead>\n",
       "    <tr style=\"text-align: right;\">\n",
       "      <th></th>\n",
       "      <th>States</th>\n",
       "      <th>year</th>\n",
       "      <th>Total Bags</th>\n",
       "      <th>2015+stroke</th>\n",
       "      <th>2015+cardiovascular</th>\n",
       "      <th>2015+diabetes</th>\n",
       "      <th>2016+stroke</th>\n",
       "      <th>2016+cardiovascular</th>\n",
       "      <th>2016+diabetes</th>\n",
       "      <th>2017+stroke</th>\n",
       "      <th>2017+cardiovascular</th>\n",
       "      <th>2017+diabetes</th>\n",
       "    </tr>\n",
       "  </thead>\n",
       "  <tbody>\n",
       "    <tr>\n",
       "      <th>0</th>\n",
       "      <td>Albany GA</td>\n",
       "      <td>2015</td>\n",
       "      <td>719600</td>\n",
       "      <td>55.0</td>\n",
       "      <td>53.0</td>\n",
       "      <td>82.0</td>\n",
       "      <td>NaN</td>\n",
       "      <td>NaN</td>\n",
       "      <td>NaN</td>\n",
       "      <td>NaN</td>\n",
       "      <td>NaN</td>\n",
       "      <td>NaN</td>\n",
       "    </tr>\n",
       "    <tr>\n",
       "      <th>1</th>\n",
       "      <td>Albany GA</td>\n",
       "      <td>2016</td>\n",
       "      <td>838248</td>\n",
       "      <td>NaN</td>\n",
       "      <td>NaN</td>\n",
       "      <td>NaN</td>\n",
       "      <td>67.0</td>\n",
       "      <td>67.0</td>\n",
       "      <td>79.0</td>\n",
       "      <td>NaN</td>\n",
       "      <td>NaN</td>\n",
       "      <td>NaN</td>\n",
       "    </tr>\n",
       "    <tr>\n",
       "      <th>2</th>\n",
       "      <td>Albany GA</td>\n",
       "      <td>2017</td>\n",
       "      <td>835454</td>\n",
       "      <td>NaN</td>\n",
       "      <td>NaN</td>\n",
       "      <td>NaN</td>\n",
       "      <td>NaN</td>\n",
       "      <td>NaN</td>\n",
       "      <td>NaN</td>\n",
       "      <td>69.0</td>\n",
       "      <td>50.0</td>\n",
       "      <td>81.0</td>\n",
       "    </tr>\n",
       "    <tr>\n",
       "      <th>3</th>\n",
       "      <td>Atlanta GA</td>\n",
       "      <td>2015</td>\n",
       "      <td>2996945</td>\n",
       "      <td>50.0</td>\n",
       "      <td>45.0</td>\n",
       "      <td>64.0</td>\n",
       "      <td>NaN</td>\n",
       "      <td>NaN</td>\n",
       "      <td>NaN</td>\n",
       "      <td>NaN</td>\n",
       "      <td>NaN</td>\n",
       "      <td>NaN</td>\n",
       "    </tr>\n",
       "    <tr>\n",
       "      <th>4</th>\n",
       "      <td>Atlanta GA</td>\n",
       "      <td>2016</td>\n",
       "      <td>9976683</td>\n",
       "      <td>NaN</td>\n",
       "      <td>NaN</td>\n",
       "      <td>NaN</td>\n",
       "      <td>58.0</td>\n",
       "      <td>45.0</td>\n",
       "      <td>73.0</td>\n",
       "      <td>NaN</td>\n",
       "      <td>NaN</td>\n",
       "      <td>NaN</td>\n",
       "    </tr>\n",
       "  </tbody>\n",
       "</table>\n",
       "</div>"
      ],
      "text/plain": [
       "       States  year  Total Bags  2015+stroke  2015+cardiovascular  \\\n",
       "0   Albany GA  2015      719600         55.0                 53.0   \n",
       "1   Albany GA  2016      838248          NaN                  NaN   \n",
       "2   Albany GA  2017      835454          NaN                  NaN   \n",
       "3  Atlanta GA  2015     2996945         50.0                 45.0   \n",
       "4  Atlanta GA  2016     9976683          NaN                  NaN   \n",
       "\n",
       "   2015+diabetes  2016+stroke  2016+cardiovascular  2016+diabetes  \\\n",
       "0           82.0          NaN                  NaN            NaN   \n",
       "1            NaN         67.0                 67.0           79.0   \n",
       "2            NaN          NaN                  NaN            NaN   \n",
       "3           64.0          NaN                  NaN            NaN   \n",
       "4            NaN         58.0                 45.0           73.0   \n",
       "\n",
       "   2017+stroke  2017+cardiovascular  2017+diabetes  \n",
       "0          NaN                  NaN            NaN  \n",
       "1          NaN                  NaN            NaN  \n",
       "2         69.0                 50.0           81.0  \n",
       "3          NaN                  NaN            NaN  \n",
       "4          NaN                  NaN            NaN  "
      ]
     },
     "execution_count": 31,
     "metadata": {},
     "output_type": "execute_result"
    }
   ],
   "source": [
    "KPI0=Research2.drop(columns=['Total Volume'])\n",
    "KPI0=pd.DataFrame(KPI0)\n",
    "KPI0.head()"
   ]
  },
  {
   "cell_type": "code",
   "execution_count": 32,
   "metadata": {},
   "outputs": [
    {
     "data": {
      "text/plain": [
       "<seaborn.axisgrid.PairGrid at 0xddbab38>"
      ]
     },
     "execution_count": 32,
     "metadata": {},
     "output_type": "execute_result"
    },
    {
     "data": {
      "image/png": "[encoded data removed]",
      "text/plain": [
       "<Figure size 388.8x432 with 3 Axes>"
      ]
     },
     "metadata": {},
     "output_type": "display_data"
    }
   ],
   "source": [
    "sns.pairplot(KPI0, x_vars=['2015+stroke','2016+stroke','2017+stroke'], y_vars='States', size=6, aspect=0.3)"
   ]
  },
  {
   "cell_type": "code",
   "execution_count": 33,
   "metadata": {},
   "outputs": [
    {
     "data": {
      "text/plain": [
       "<seaborn.axisgrid.PairGrid at 0x5297390>"
      ]
     },
     "execution_count": 33,
     "metadata": {},
     "output_type": "execute_result"
    },
    {
     "data": {
      "image/png": "[encoded data removed]",
      "text/plain": [
       "<Figure size 388.8x432 with 3 Axes>"
      ]
     },
     "metadata": {},
     "output_type": "display_data"
    }
   ],
   "source": [
    "sns.pairplot(KPI0, x_vars=['2015+diabetes','2016+diabetes','2017+diabetes'], y_vars='States', size=6, aspect=0.3)"
   ]
  },
  {
   "cell_type": "code",
   "execution_count": 34,
   "metadata": {},
   "outputs": [
    {
     "data": {
      "text/plain": [
       "<seaborn.axisgrid.PairGrid at 0x5297be0>"
      ]
     },
     "execution_count": 34,
     "metadata": {},
     "output_type": "execute_result"
    },
    {
     "data": {
      "image/png": "[encoded data removed]",
      "text/plain": [
       "<Figure size 388.8x432 with 3 Axes>"
      ]
     },
     "metadata": {},
     "output_type": "display_data"
    }
   ],
   "source": [
    "sns.pairplot(KPI0, x_vars=['2015+cardiovascular','2016+cardiovascular','2017+cardiovascular'], y_vars='States', size=6, aspect=0.3)"
   ]
  },
  {
   "cell_type": "code",
   "execution_count": 35,
   "metadata": {},
   "outputs": [
    {
     "data": {
      "text/html": [
       "<div>\n",
       "<style scoped>\n",
       "    .dataframe tbody tr th:only-of-type {\n",
       "        vertical-align: middle;\n",
       "    }\n",
       "\n",
       "    .dataframe tbody tr th {\n",
       "        vertical-align: top;\n",
       "    }\n",
       "\n",
       "    .dataframe thead th {\n",
       "        text-align: right;\n",
       "    }\n",
       "</style>\n",
       "<table border=\"1\" class=\"dataframe\">\n",
       "  <thead>\n",
       "    <tr style=\"text-align: right;\">\n",
       "      <th></th>\n",
       "      <th>States</th>\n",
       "      <th>year</th>\n",
       "      <th>Total Volume</th>\n",
       "      <th>Total Bags</th>\n",
       "      <th>2015+stroke</th>\n",
       "      <th>2015+cardiovascular</th>\n",
       "      <th>2015+diabetes</th>\n",
       "      <th>2016+stroke</th>\n",
       "      <th>2016+cardiovascular</th>\n",
       "      <th>2016+diabetes</th>\n",
       "      <th>2017+stroke</th>\n",
       "      <th>2017+cardiovascular</th>\n",
       "      <th>2017+diabetes</th>\n",
       "    </tr>\n",
       "  </thead>\n",
       "  <tbody>\n",
       "    <tr>\n",
       "      <th>0</th>\n",
       "      <td>Albany GA</td>\n",
       "      <td>2015</td>\n",
       "      <td>4029895</td>\n",
       "      <td>719600</td>\n",
       "      <td>55.0</td>\n",
       "      <td>53.0</td>\n",
       "      <td>82.0</td>\n",
       "      <td>NaN</td>\n",
       "      <td>NaN</td>\n",
       "      <td>NaN</td>\n",
       "      <td>NaN</td>\n",
       "      <td>NaN</td>\n",
       "      <td>NaN</td>\n",
       "    </tr>\n",
       "    <tr>\n",
       "      <th>1</th>\n",
       "      <td>Albany GA</td>\n",
       "      <td>2016</td>\n",
       "      <td>5264337</td>\n",
       "      <td>838248</td>\n",
       "      <td>NaN</td>\n",
       "      <td>NaN</td>\n",
       "      <td>NaN</td>\n",
       "      <td>67.0</td>\n",
       "      <td>67.0</td>\n",
       "      <td>79.0</td>\n",
       "      <td>NaN</td>\n",
       "      <td>NaN</td>\n",
       "      <td>NaN</td>\n",
       "    </tr>\n",
       "    <tr>\n",
       "      <th>2</th>\n",
       "      <td>Albany GA</td>\n",
       "      <td>2017</td>\n",
       "      <td>5231580</td>\n",
       "      <td>835454</td>\n",
       "      <td>NaN</td>\n",
       "      <td>NaN</td>\n",
       "      <td>NaN</td>\n",
       "      <td>NaN</td>\n",
       "      <td>NaN</td>\n",
       "      <td>NaN</td>\n",
       "      <td>69.0</td>\n",
       "      <td>50.0</td>\n",
       "      <td>81.0</td>\n",
       "    </tr>\n",
       "    <tr>\n",
       "      <th>3</th>\n",
       "      <td>Atlanta GA</td>\n",
       "      <td>2015</td>\n",
       "      <td>23231698</td>\n",
       "      <td>2996945</td>\n",
       "      <td>50.0</td>\n",
       "      <td>45.0</td>\n",
       "      <td>64.0</td>\n",
       "      <td>NaN</td>\n",
       "      <td>NaN</td>\n",
       "      <td>NaN</td>\n",
       "      <td>NaN</td>\n",
       "      <td>NaN</td>\n",
       "      <td>NaN</td>\n",
       "    </tr>\n",
       "    <tr>\n",
       "      <th>4</th>\n",
       "      <td>Atlanta GA</td>\n",
       "      <td>2016</td>\n",
       "      <td>28326878</td>\n",
       "      <td>9976683</td>\n",
       "      <td>NaN</td>\n",
       "      <td>NaN</td>\n",
       "      <td>NaN</td>\n",
       "      <td>58.0</td>\n",
       "      <td>45.0</td>\n",
       "      <td>73.0</td>\n",
       "      <td>NaN</td>\n",
       "      <td>NaN</td>\n",
       "      <td>NaN</td>\n",
       "    </tr>\n",
       "  </tbody>\n",
       "</table>\n",
       "</div>"
      ],
      "text/plain": [
       "       States  year  Total Volume  Total Bags  2015+stroke  \\\n",
       "0   Albany GA  2015       4029895      719600         55.0   \n",
       "1   Albany GA  2016       5264337      838248          NaN   \n",
       "2   Albany GA  2017       5231580      835454          NaN   \n",
       "3  Atlanta GA  2015      23231698     2996945         50.0   \n",
       "4  Atlanta GA  2016      28326878     9976683          NaN   \n",
       "\n",
       "   2015+cardiovascular  2015+diabetes  2016+stroke  2016+cardiovascular  \\\n",
       "0                 53.0           82.0          NaN                  NaN   \n",
       "1                  NaN            NaN         67.0                 67.0   \n",
       "2                  NaN            NaN          NaN                  NaN   \n",
       "3                 45.0           64.0          NaN                  NaN   \n",
       "4                  NaN            NaN         58.0                 45.0   \n",
       "\n",
       "   2016+diabetes  2017+stroke  2017+cardiovascular  2017+diabetes  \n",
       "0            NaN          NaN                  NaN            NaN  \n",
       "1           79.0          NaN                  NaN            NaN  \n",
       "2            NaN         69.0                 50.0           81.0  \n",
       "3            NaN          NaN                  NaN            NaN  \n",
       "4           73.0          NaN                  NaN            NaN  "
      ]
     },
     "execution_count": 35,
     "metadata": {},
     "output_type": "execute_result"
    }
   ],
   "source": [
    "Research2.head()"
   ]
  },
  {
   "cell_type": "code",
   "execution_count": 36,
   "metadata": {},
   "outputs": [
    {
     "data": {
      "text/plain": [
       "Index([u'States', u'year', u'Total Volume', u'Total Bags', u'2015+stroke',\n",
       "       u'2015+cardiovascular', u'2015+diabetes', u'2016+stroke',\n",
       "       u'2016+cardiovascular', u'2016+diabetes', u'2017+stroke',\n",
       "       u'2017+cardiovascular', u'2017+diabetes'],\n",
       "      dtype='object')"
      ]
     },
     "execution_count": 36,
     "metadata": {},
     "output_type": "execute_result"
    }
   ],
   "source": [
    "Research2.columns"
   ]
  },
  {
   "cell_type": "code",
   "execution_count": 37,
   "metadata": {},
   "outputs": [
    {
     "data": {
      "text/html": [
       "<div>\n",
       "<style scoped>\n",
       "    .dataframe tbody tr th:only-of-type {\n",
       "        vertical-align: middle;\n",
       "    }\n",
       "\n",
       "    .dataframe tbody tr th {\n",
       "        vertical-align: top;\n",
       "    }\n",
       "\n",
       "    .dataframe thead th {\n",
       "        text-align: right;\n",
       "    }\n",
       "</style>\n",
       "<table border=\"1\" class=\"dataframe\">\n",
       "  <thead>\n",
       "    <tr style=\"text-align: right;\">\n",
       "      <th></th>\n",
       "      <th>States</th>\n",
       "      <th>year</th>\n",
       "      <th>Total Volume</th>\n",
       "      <th>Total Bags</th>\n",
       "      <th>2015+stroke</th>\n",
       "      <th>2016+stroke</th>\n",
       "      <th>2017+stroke</th>\n",
       "    </tr>\n",
       "  </thead>\n",
       "  <tbody>\n",
       "    <tr>\n",
       "      <th>0</th>\n",
       "      <td>Albany GA</td>\n",
       "      <td>2015</td>\n",
       "      <td>4029895</td>\n",
       "      <td>719600</td>\n",
       "      <td>55.0</td>\n",
       "      <td>NaN</td>\n",
       "      <td>NaN</td>\n",
       "    </tr>\n",
       "    <tr>\n",
       "      <th>1</th>\n",
       "      <td>Albany GA</td>\n",
       "      <td>2016</td>\n",
       "      <td>5264337</td>\n",
       "      <td>838248</td>\n",
       "      <td>NaN</td>\n",
       "      <td>67.0</td>\n",
       "      <td>NaN</td>\n",
       "    </tr>\n",
       "    <tr>\n",
       "      <th>2</th>\n",
       "      <td>Albany GA</td>\n",
       "      <td>2017</td>\n",
       "      <td>5231580</td>\n",
       "      <td>835454</td>\n",
       "      <td>NaN</td>\n",
       "      <td>NaN</td>\n",
       "      <td>69.0</td>\n",
       "    </tr>\n",
       "    <tr>\n",
       "      <th>3</th>\n",
       "      <td>Atlanta GA</td>\n",
       "      <td>2015</td>\n",
       "      <td>23231698</td>\n",
       "      <td>2996945</td>\n",
       "      <td>50.0</td>\n",
       "      <td>NaN</td>\n",
       "      <td>NaN</td>\n",
       "    </tr>\n",
       "    <tr>\n",
       "      <th>4</th>\n",
       "      <td>Atlanta GA</td>\n",
       "      <td>2016</td>\n",
       "      <td>28326878</td>\n",
       "      <td>9976683</td>\n",
       "      <td>NaN</td>\n",
       "      <td>58.0</td>\n",
       "      <td>NaN</td>\n",
       "    </tr>\n",
       "  </tbody>\n",
       "</table>\n",
       "</div>"
      ],
      "text/plain": [
       "       States  year  Total Volume  Total Bags  2015+stroke  2016+stroke  \\\n",
       "0   Albany GA  2015       4029895      719600         55.0          NaN   \n",
       "1   Albany GA  2016       5264337      838248          NaN         67.0   \n",
       "2   Albany GA  2017       5231580      835454          NaN          NaN   \n",
       "3  Atlanta GA  2015      23231698     2996945         50.0          NaN   \n",
       "4  Atlanta GA  2016      28326878     9976683          NaN         58.0   \n",
       "\n",
       "   2017+stroke  \n",
       "0          NaN  \n",
       "1          NaN  \n",
       "2         69.0  \n",
       "3          NaN  \n",
       "4          NaN  "
      ]
     },
     "execution_count": 37,
     "metadata": {},
     "output_type": "execute_result"
    }
   ],
   "source": [
    "Stroke=Research2.drop(columns=['2015+cardiovascular', '2015+diabetes',\n",
    "       '2016+cardiovascular', '2016+diabetes',\n",
    "       '2017+cardiovascular', '2017+diabetes'])\n",
    "Stroke.head()"
   ]
  },
  {
   "cell_type": "code",
   "execution_count": 38,
   "metadata": {},
   "outputs": [],
   "source": [
    "Stroke2015=Research2[Research2['year'] == 2015].groupby('year')['2015+stroke'].mean()\n",
    "Stroke2016=Research2[Research2['year'] == 2016].groupby('year')['2016+stroke'].mean()\n",
    "Stroke2017=Research2[Research2['year'] == 2017].groupby('year')['2017+stroke'].mean()\n",
    "Stroke0=pd.concat([Stroke2015,Stroke2016,Stroke2017]).astype(int)"
   ]
  },
  {
   "cell_type": "code",
   "execution_count": 39,
   "metadata": {},
   "outputs": [],
   "source": [
    "Stroke1=Stroke0.reset_index()"
   ]
  },
  {
   "cell_type": "code",
   "execution_count": 40,
   "metadata": {},
   "outputs": [
    {
     "data": {
      "text/html": [
       "<div>\n",
       "<style scoped>\n",
       "    .dataframe tbody tr th:only-of-type {\n",
       "        vertical-align: middle;\n",
       "    }\n",
       "\n",
       "    .dataframe tbody tr th {\n",
       "        vertical-align: top;\n",
       "    }\n",
       "\n",
       "    .dataframe thead th {\n",
       "        text-align: right;\n",
       "    }\n",
       "</style>\n",
       "<table border=\"1\" class=\"dataframe\">\n",
       "  <thead>\n",
       "    <tr style=\"text-align: right;\">\n",
       "      <th></th>\n",
       "      <th>year</th>\n",
       "      <th>Stroke KPI</th>\n",
       "    </tr>\n",
       "  </thead>\n",
       "  <tbody>\n",
       "    <tr>\n",
       "      <th>0</th>\n",
       "      <td>2015</td>\n",
       "      <td>52</td>\n",
       "    </tr>\n",
       "    <tr>\n",
       "      <th>1</th>\n",
       "      <td>2016</td>\n",
       "      <td>58</td>\n",
       "    </tr>\n",
       "    <tr>\n",
       "      <th>2</th>\n",
       "      <td>2017</td>\n",
       "      <td>64</td>\n",
       "    </tr>\n",
       "  </tbody>\n",
       "</table>\n",
       "</div>"
      ],
      "text/plain": [
       "   year  Stroke KPI\n",
       "0  2015          52\n",
       "1  2016          58\n",
       "2  2017          64"
      ]
     },
     "execution_count": 40,
     "metadata": {},
     "output_type": "execute_result"
    }
   ],
   "source": [
    "Stroke2=Stroke1.rename(columns={ Stroke1.columns[1]: 'Stroke KPI'})\n",
    "Stroke2"
   ]
  },
  {
   "cell_type": "code",
   "execution_count": 41,
   "metadata": {},
   "outputs": [
    {
     "data": {
      "image/png": "[encoded data removed]",
      "text/plain": [
       "<Figure size 432x288 with 1 Axes>"
      ]
     },
     "metadata": {},
     "output_type": "display_data"
    }
   ],
   "source": [
    "Chart_Stroke=Stroke2.plot.bar(x='year', y=['Stroke KPI'], rot=0)"
   ]
  },
  {
   "cell_type": "code",
   "execution_count": 42,
   "metadata": {},
   "outputs": [],
   "source": [
    "Cardiovascular2015=Research2[Research2['year'] == 2015].groupby('year')['2015+cardiovascular'].mean()\n",
    "Cardiovascular2016=Research2[Research2['year'] == 2016].groupby('year')['2016+cardiovascular'].mean()\n",
    "Cardiovascular2017=Research2[Research2['year'] == 2017].groupby('year')['2017+cardiovascular'].mean()\n",
    "Cardiovascular0=pd.concat([Cardiovascular2015,Cardiovascular2016,Cardiovascular2017]).astype(int)"
   ]
  },
  {
   "cell_type": "code",
   "execution_count": 43,
   "metadata": {},
   "outputs": [],
   "source": [
    "Cardiovascular1=Cardiovascular0.reset_index()"
   ]
  },
  {
   "cell_type": "code",
   "execution_count": 44,
   "metadata": {},
   "outputs": [
    {
     "data": {
      "text/html": [
       "<div>\n",
       "<style scoped>\n",
       "    .dataframe tbody tr th:only-of-type {\n",
       "        vertical-align: middle;\n",
       "    }\n",
       "\n",
       "    .dataframe tbody tr th {\n",
       "        vertical-align: top;\n",
       "    }\n",
       "\n",
       "    .dataframe thead th {\n",
       "        text-align: right;\n",
       "    }\n",
       "</style>\n",
       "<table border=\"1\" class=\"dataframe\">\n",
       "  <thead>\n",
       "    <tr style=\"text-align: right;\">\n",
       "      <th></th>\n",
       "      <th>year</th>\n",
       "      <th>Cardiovascular KPI</th>\n",
       "    </tr>\n",
       "  </thead>\n",
       "  <tbody>\n",
       "    <tr>\n",
       "      <th>0</th>\n",
       "      <td>2015</td>\n",
       "      <td>43</td>\n",
       "    </tr>\n",
       "    <tr>\n",
       "      <th>1</th>\n",
       "      <td>2016</td>\n",
       "      <td>45</td>\n",
       "    </tr>\n",
       "    <tr>\n",
       "      <th>2</th>\n",
       "      <td>2017</td>\n",
       "      <td>36</td>\n",
       "    </tr>\n",
       "  </tbody>\n",
       "</table>\n",
       "</div>"
      ],
      "text/plain": [
       "   year  Cardiovascular KPI\n",
       "0  2015                  43\n",
       "1  2016                  45\n",
       "2  2017                  36"
      ]
     },
     "execution_count": 44,
     "metadata": {},
     "output_type": "execute_result"
    }
   ],
   "source": [
    "Cardiovascular2=Cardiovascular1.rename(columns={ Cardiovascular1.columns[1]: 'Cardiovascular KPI'})\n",
    "Cardiovascular2"
   ]
  },
  {
   "cell_type": "code",
   "execution_count": 45,
   "metadata": {},
   "outputs": [
    {
     "data": {
      "image/png": "[encoded data removed]",
      "text/plain": [
       "<Figure size 432x288 with 1 Axes>"
      ]
     },
     "metadata": {},
     "output_type": "display_data"
    }
   ],
   "source": [
    "Chart_Cardiovascular2=Cardiovascular2.plot.bar(x='year', y=['Cardiovascular KPI'], rot=0)"
   ]
  },
  {
   "cell_type": "code",
   "execution_count": 46,
   "metadata": {},
   "outputs": [],
   "source": [
    "Diabetes2015=Research2[Research2['year'] == 2015].groupby('year')['2015+diabetes'].mean()\n",
    "Diabetes2016=Research2[Research2['year'] == 2016].groupby('year')['2016+diabetes'].mean()\n",
    "Diabetes2017=Research2[Research2['year'] == 2017].groupby('year')['2017+diabetes'].mean()\n",
    "Diabetes0=pd.concat([Diabetes2015,Diabetes2016,Diabetes2017]).astype(int)"
   ]
  },
  {
   "cell_type": "code",
   "execution_count": 47,
   "metadata": {},
   "outputs": [],
   "source": [
    "Diabetes1=Diabetes0.reset_index()"
   ]
  },
  {
   "cell_type": "code",
   "execution_count": 48,
   "metadata": {},
   "outputs": [
    {
     "data": {
      "text/html": [
       "<div>\n",
       "<style scoped>\n",
       "    .dataframe tbody tr th:only-of-type {\n",
       "        vertical-align: middle;\n",
       "    }\n",
       "\n",
       "    .dataframe tbody tr th {\n",
       "        vertical-align: top;\n",
       "    }\n",
       "\n",
       "    .dataframe thead th {\n",
       "        text-align: right;\n",
       "    }\n",
       "</style>\n",
       "<table border=\"1\" class=\"dataframe\">\n",
       "  <thead>\n",
       "    <tr style=\"text-align: right;\">\n",
       "      <th></th>\n",
       "      <th>year</th>\n",
       "      <th>Diabetes KPI</th>\n",
       "    </tr>\n",
       "  </thead>\n",
       "  <tbody>\n",
       "    <tr>\n",
       "      <th>0</th>\n",
       "      <td>2015</td>\n",
       "      <td>68</td>\n",
       "    </tr>\n",
       "    <tr>\n",
       "      <th>1</th>\n",
       "      <td>2016</td>\n",
       "      <td>76</td>\n",
       "    </tr>\n",
       "    <tr>\n",
       "      <th>2</th>\n",
       "      <td>2017</td>\n",
       "      <td>75</td>\n",
       "    </tr>\n",
       "  </tbody>\n",
       "</table>\n",
       "</div>"
      ],
      "text/plain": [
       "   year  Diabetes KPI\n",
       "0  2015            68\n",
       "1  2016            76\n",
       "2  2017            75"
      ]
     },
     "execution_count": 48,
     "metadata": {},
     "output_type": "execute_result"
    }
   ],
   "source": [
    "Diabetes2=Diabetes1.rename(columns={ Diabetes1.columns[1]: 'Diabetes KPI'})\n",
    "Diabetes2"
   ]
  },
  {
   "cell_type": "code",
   "execution_count": 49,
   "metadata": {},
   "outputs": [
    {
     "data": {
      "image/png": "[encoded data removed]",
      "text/plain": [
       "<Figure size 432x288 with 1 Axes>"
      ]
     },
     "metadata": {},
     "output_type": "display_data"
    }
   ],
   "source": [
    "Chart_Diabetes2=Diabetes2.plot.bar(x='year', y=['Diabetes KPI'], rot=0)"
   ]
  },
  {
   "cell_type": "code",
   "execution_count": 50,
   "metadata": {},
   "outputs": [
    {
     "data": {
      "text/html": [
       "<div>\n",
       "<style scoped>\n",
       "    .dataframe tbody tr th:only-of-type {\n",
       "        vertical-align: middle;\n",
       "    }\n",
       "\n",
       "    .dataframe tbody tr th {\n",
       "        vertical-align: top;\n",
       "    }\n",
       "\n",
       "    .dataframe thead th {\n",
       "        text-align: right;\n",
       "    }\n",
       "</style>\n",
       "<table border=\"1\" class=\"dataframe\">\n",
       "  <thead>\n",
       "    <tr style=\"text-align: right;\">\n",
       "      <th></th>\n",
       "      <th>year</th>\n",
       "      <th>Total Volume</th>\n",
       "      <th>0_x</th>\n",
       "      <th>0_y</th>\n",
       "      <th>0</th>\n",
       "    </tr>\n",
       "  </thead>\n",
       "  <tbody>\n",
       "    <tr>\n",
       "      <th>0</th>\n",
       "      <td>2015</td>\n",
       "      <td>2.364509e+07</td>\n",
       "      <td>52</td>\n",
       "      <td>43</td>\n",
       "      <td>68</td>\n",
       "    </tr>\n",
       "    <tr>\n",
       "      <th>1</th>\n",
       "      <td>2016</td>\n",
       "      <td>2.614094e+07</td>\n",
       "      <td>58</td>\n",
       "      <td>45</td>\n",
       "      <td>76</td>\n",
       "    </tr>\n",
       "    <tr>\n",
       "      <th>2</th>\n",
       "      <td>2017</td>\n",
       "      <td>2.654523e+07</td>\n",
       "      <td>64</td>\n",
       "      <td>36</td>\n",
       "      <td>75</td>\n",
       "    </tr>\n",
       "  </tbody>\n",
       "</table>\n",
       "</div>"
      ],
      "text/plain": [
       "   year  Total Volume  0_x  0_y   0\n",
       "0  2015  2.364509e+07   52   43  68\n",
       "1  2016  2.614094e+07   58   45  76\n",
       "2  2017  2.654523e+07   64   36  75"
      ]
     },
     "execution_count": 50,
     "metadata": {},
     "output_type": "execute_result"
    }
   ],
   "source": [
    "Test= Sales1.merge(Stroke1,on='year').merge(Cardiovascular1,on='year').merge(Diabetes1,on='year')\n",
    "Test"
   ]
  },
  {
   "cell_type": "code",
   "execution_count": 51,
   "metadata": {},
   "outputs": [],
   "source": [
    "Test1=Test.rename(columns={ Test.columns[2]: 'StrokeKPI',Test.columns[3]: 'CardiovascularKPI',\n",
    "                           Test.columns[4]: 'DiabetesKPI'})"
   ]
  },
  {
   "cell_type": "code",
   "execution_count": 52,
   "metadata": {},
   "outputs": [
    {
     "data": {
      "text/html": [
       "<div>\n",
       "<style scoped>\n",
       "    .dataframe tbody tr th:only-of-type {\n",
       "        vertical-align: middle;\n",
       "    }\n",
       "\n",
       "    .dataframe tbody tr th {\n",
       "        vertical-align: top;\n",
       "    }\n",
       "\n",
       "    .dataframe thead th {\n",
       "        text-align: right;\n",
       "    }\n",
       "</style>\n",
       "<table border=\"1\" class=\"dataframe\">\n",
       "  <thead>\n",
       "    <tr style=\"text-align: right;\">\n",
       "      <th></th>\n",
       "      <th>year</th>\n",
       "      <th>Total Volume</th>\n",
       "      <th>StrokeKPI</th>\n",
       "      <th>CardiovascularKPI</th>\n",
       "      <th>DiabetesKPI</th>\n",
       "    </tr>\n",
       "  </thead>\n",
       "  <tbody>\n",
       "    <tr>\n",
       "      <th>0</th>\n",
       "      <td>2015</td>\n",
       "      <td>2.364509e+07</td>\n",
       "      <td>52</td>\n",
       "      <td>43</td>\n",
       "      <td>68</td>\n",
       "    </tr>\n",
       "    <tr>\n",
       "      <th>1</th>\n",
       "      <td>2016</td>\n",
       "      <td>2.614094e+07</td>\n",
       "      <td>58</td>\n",
       "      <td>45</td>\n",
       "      <td>76</td>\n",
       "    </tr>\n",
       "    <tr>\n",
       "      <th>2</th>\n",
       "      <td>2017</td>\n",
       "      <td>2.654523e+07</td>\n",
       "      <td>64</td>\n",
       "      <td>36</td>\n",
       "      <td>75</td>\n",
       "    </tr>\n",
       "  </tbody>\n",
       "</table>\n",
       "</div>"
      ],
      "text/plain": [
       "   year  Total Volume  StrokeKPI  CardiovascularKPI  DiabetesKPI\n",
       "0  2015  2.364509e+07         52                 43           68\n",
       "1  2016  2.614094e+07         58                 45           76\n",
       "2  2017  2.654523e+07         64                 36           75"
      ]
     },
     "execution_count": 52,
     "metadata": {},
     "output_type": "execute_result"
    }
   ],
   "source": [
    "Test1"
   ]
  },
  {
   "cell_type": "markdown",
   "metadata": {},
   "source": [
    "# Using a single feature (or \"predictor\" or \"input variable\"). It takes the following form: y=β0+β1x\n",
    "\n",
    "What does each term represent?\n",
    "y is the response\n",
    "x is the feature\n",
    "β0 is the intercept\n",
    "β1 is the coefficient for x"
   ]
  },
  {
   "cell_type": "code",
   "execution_count": 53,
   "metadata": {},
   "outputs": [
    {
     "data": {
      "text/html": [
       "<div>\n",
       "<style scoped>\n",
       "    .dataframe tbody tr th:only-of-type {\n",
       "        vertical-align: middle;\n",
       "    }\n",
       "\n",
       "    .dataframe tbody tr th {\n",
       "        vertical-align: top;\n",
       "    }\n",
       "\n",
       "    .dataframe thead th {\n",
       "        text-align: right;\n",
       "    }\n",
       "</style>\n",
       "<table border=\"1\" class=\"dataframe\">\n",
       "  <thead>\n",
       "    <tr style=\"text-align: right;\">\n",
       "      <th></th>\n",
       "      <th>year</th>\n",
       "      <th>TotalVolume</th>\n",
       "      <th>StrokeKPI</th>\n",
       "      <th>CardiovascularKPI</th>\n",
       "      <th>DiabetesKPI</th>\n",
       "    </tr>\n",
       "  </thead>\n",
       "  <tbody>\n",
       "    <tr>\n",
       "      <th>0</th>\n",
       "      <td>2015</td>\n",
       "      <td>2.364509e+07</td>\n",
       "      <td>52</td>\n",
       "      <td>43</td>\n",
       "      <td>68</td>\n",
       "    </tr>\n",
       "    <tr>\n",
       "      <th>1</th>\n",
       "      <td>2016</td>\n",
       "      <td>2.614094e+07</td>\n",
       "      <td>58</td>\n",
       "      <td>45</td>\n",
       "      <td>76</td>\n",
       "    </tr>\n",
       "    <tr>\n",
       "      <th>2</th>\n",
       "      <td>2017</td>\n",
       "      <td>2.654523e+07</td>\n",
       "      <td>64</td>\n",
       "      <td>36</td>\n",
       "      <td>75</td>\n",
       "    </tr>\n",
       "  </tbody>\n",
       "</table>\n",
       "</div>"
      ],
      "text/plain": [
       "   year   TotalVolume  StrokeKPI  CardiovascularKPI  DiabetesKPI\n",
       "0  2015  2.364509e+07         52                 43           68\n",
       "1  2016  2.614094e+07         58                 45           76\n",
       "2  2017  2.654523e+07         64                 36           75"
      ]
     },
     "execution_count": 53,
     "metadata": {},
     "output_type": "execute_result"
    }
   ],
   "source": [
    "Test1 = Test1.rename(columns={'Total Volume': 'TotalVolume','Stroke KPI':'StrokeKPI',\n",
    "                                    'Cardiovascular KPI':'CardiovascularKPI','Diabetes KPI':'DiabetesKPI'})\n",
    "Test1"
   ]
  },
  {
   "cell_type": "markdown",
   "metadata": {},
   "source": [
    "# Stroke KPI vs. Total Volume\n",
    "# β0=11426390,  β1=241678.7\n",
    "\n",
    "# y=11426390+241678.7x"
   ]
  },
  {
   "cell_type": "code",
   "execution_count": 54,
   "metadata": {},
   "outputs": [
    {
     "data": {
      "text/plain": [
       "Intercept    1.142639e+07\n",
       "StrokeKPI    2.416787e+05\n",
       "dtype: float64"
      ]
     },
     "execution_count": 54,
     "metadata": {},
     "output_type": "execute_result"
    }
   ],
   "source": [
    "lm1 = smf.ols(formula='TotalVolume ~ StrokeKPI', data=Test1).fit()\n",
    "lm1.params"
   ]
  },
  {
   "cell_type": "code",
   "execution_count": 55,
   "metadata": {},
   "outputs": [
    {
     "name": "stdout",
     "output_type": "stream",
     "text": [
      "11426392.400793638\n",
      "[241678.65277778]\n"
     ]
    }
   ],
   "source": [
    "feature_1=['StrokeKPI']\n",
    "x1= Test1[feature_1]\n",
    "y1= Test1['TotalVolume']\n",
    "\n",
    "# instantiate and fit\n",
    "Test2=LinearRegression()\n",
    "Test2.fit(x1,y1)\n",
    "\n",
    "# print the coefficients\n",
    "print Test2.intercept_\n",
    "print Test2.coef_"
   ]
  },
  {
   "cell_type": "markdown",
   "metadata": {},
   "source": [
    "# Cardiovascular KPI vs. Total Volume\n",
    "\n",
    "# β0=31288390, β1=(-141402)\n",
    "\n",
    "# y=31288390+(-141402)x"
   ]
  },
  {
   "cell_type": "code",
   "execution_count": 56,
   "metadata": {},
   "outputs": [
    {
     "data": {
      "text/plain": [
       "Intercept            3.128839e+07\n",
       "CardiovascularKPI   -1.414025e+05\n",
       "dtype: float64"
      ]
     },
     "execution_count": 56,
     "metadata": {},
     "output_type": "execute_result"
    }
   ],
   "source": [
    "lm2 = smf.ols(formula='TotalVolume~CardiovascularKPI', data=Test1).fit()\n",
    "lm2.params"
   ]
  },
  {
   "cell_type": "code",
   "execution_count": 57,
   "metadata": {},
   "outputs": [
    {
     "name": "stdout",
     "output_type": "stream",
     "text": [
      "31288389.584577125\n",
      "[-141402.46748401]\n"
     ]
    }
   ],
   "source": [
    "feature_2= ['CardiovascularKPI']\n",
    "x2 = Test1[feature_2]\n",
    "y2=Test1['TotalVolume']\n",
    "\n",
    "# instantiate and fit\n",
    "Test3 = LinearRegression()\n",
    "Test3.fit(x2, y2)\n",
    "\n",
    "# print the coefficients\n",
    "print (Test3.intercept_)\n",
    "print (Test3.coef_)"
   ]
  },
  {
   "cell_type": "markdown",
   "metadata": {},
   "source": [
    "# Diabetes KPI vs. Total Volume\n",
    "\n",
    "# β0=(-82892), β1=349680\n",
    "\n",
    "# y=(-82892)+349680x"
   ]
  },
  {
   "cell_type": "code",
   "execution_count": 58,
   "metadata": {},
   "outputs": [
    {
     "data": {
      "text/plain": [
       "Intercept      -82892.095865\n",
       "DiabetesKPI    349680.087093\n",
       "dtype: float64"
      ]
     },
     "execution_count": 58,
     "metadata": {},
     "output_type": "execute_result"
    }
   ],
   "source": [
    "lm3 = smf.ols(formula='TotalVolume~DiabetesKPI', data=Test1).fit()\n",
    "lm3.params"
   ]
  },
  {
   "cell_type": "code",
   "execution_count": 59,
   "metadata": {},
   "outputs": [
    {
     "name": "stdout",
     "output_type": "stream",
     "text": [
      "-82892.09586466849\n",
      "[349680.08709273]\n"
     ]
    }
   ],
   "source": [
    "feature_3 = ['DiabetesKPI']\n",
    "x3 = Test1[feature_3]\n",
    "y3 = Test1['TotalVolume']\n",
    "\n",
    "# instantiate and fit\n",
    "Test4 = LinearRegression()\n",
    "Test4.fit(x3, y3)\n",
    "\n",
    "# print the coefficients\n",
    "print (Test4.intercept_)\n",
    "print (Test4.coef_)"
   ]
  },
  {
   "cell_type": "markdown",
   "metadata": {},
   "source": [
    "# Using the Model for Prediction\n",
    "\n",
    "# If we would like to get our HealthKPI to 80, how many Avocado need to be sold each year? "
   ]
  },
  {
   "cell_type": "markdown",
   "metadata": {},
   "source": [
    "# StrokeKPI: 2015- 52;  2016- 58;  2017-64\n",
    "# If KPI in 2018- 80 ??\n",
    "\n",
    "# StrokeKPI: need to sale 30M (vs. 2017- 26M)"
   ]
  },
  {
   "cell_type": "code",
   "execution_count": 60,
   "metadata": {},
   "outputs": [
    {
     "data": {
      "text/plain": [
       "0    3.076068e+07\n",
       "dtype: float64"
      ]
     },
     "execution_count": 60,
     "metadata": {},
     "output_type": "execute_result"
    }
   ],
   "source": [
    "StrokeKPI_new = pd.DataFrame({'StrokeKPI': [80]})\n",
    "lm1.predict(StrokeKPI_new)"
   ]
  },
  {
   "cell_type": "code",
   "execution_count": 61,
   "metadata": {},
   "outputs": [
    {
     "data": {
      "text/plain": [
       "array([30760684.62301588])"
      ]
     },
     "execution_count": 61,
     "metadata": {},
     "output_type": "execute_result"
    }
   ],
   "source": [
    "Test2.predict(80)"
   ]
  },
  {
   "cell_type": "markdown",
   "metadata": {},
   "source": [
    "# CVS KPI: need to sale19M (vs. 2017- 26M)"
   ]
  },
  {
   "cell_type": "code",
   "execution_count": 62,
   "metadata": {},
   "outputs": [
    {
     "data": {
      "text/plain": [
       "0    1.997619e+07\n",
       "dtype: float64"
      ]
     },
     "execution_count": 62,
     "metadata": {},
     "output_type": "execute_result"
    }
   ],
   "source": [
    "CardiovascularKPI_new = pd.DataFrame({'CardiovascularKPI': [80]}) \n",
    "\n",
    "lm2.predict(CardiovascularKPI_new)"
   ]
  },
  {
   "cell_type": "code",
   "execution_count": 63,
   "metadata": {},
   "outputs": [
    {
     "data": {
      "text/plain": [
       "array([19976192.18585642])"
      ]
     },
     "execution_count": 63,
     "metadata": {},
     "output_type": "execute_result"
    }
   ],
   "source": [
    "Test3.predict(80)"
   ]
  },
  {
   "cell_type": "markdown",
   "metadata": {},
   "source": [
    "# Diabetes KPI:  need to sale 27M(vs. 2017- 26M)"
   ]
  },
  {
   "cell_type": "code",
   "execution_count": 64,
   "metadata": {},
   "outputs": [
    {
     "data": {
      "text/plain": [
       "0    2.789151e+07\n",
       "dtype: float64"
      ]
     },
     "execution_count": 64,
     "metadata": {},
     "output_type": "execute_result"
    }
   ],
   "source": [
    "DiabetesKPI_new = pd.DataFrame({'DiabetesKPI': [80]}) \n",
    "\n",
    "lm3.predict(DiabetesKPI_new)"
   ]
  },
  {
   "cell_type": "code",
   "execution_count": 65,
   "metadata": {},
   "outputs": [
    {
     "data": {
      "text/plain": [
       "array([27891514.87155388])"
      ]
     },
     "execution_count": 65,
     "metadata": {},
     "output_type": "execute_result"
    }
   ],
   "source": [
    "Test4.predict(80)"
   ]
  },
  {
   "cell_type": "markdown",
   "metadata": {},
   "source": [
    "# Plotting the Least Squares Line"
   ]
  },
  {
   "cell_type": "code",
   "execution_count": 66,
   "metadata": {},
   "outputs": [
    {
     "data": {
      "text/plain": [
       "<seaborn.axisgrid.PairGrid at 0x105726a0>"
      ]
     },
     "execution_count": 66,
     "metadata": {},
     "output_type": "execute_result"
    },
    {
     "data": {
      "image/png": "[encoded data removed]",
      "text/plain": [
       "<Figure size 1080x360 with 3 Axes>"
      ]
     },
     "metadata": {},
     "output_type": "display_data"
    }
   ],
   "source": [
    "sns.pairplot(Test1, x_vars=['StrokeKPI','CardiovascularKPI','DiabetesKPI'], y_vars='TotalVolume', size=5, aspect=1, kind='reg')"
   ]
  },
  {
   "cell_type": "markdown",
   "metadata": {},
   "source": [
    "# Confidence in our Model"
   ]
  },
  {
   "cell_type": "code",
   "execution_count": 67,
   "metadata": {},
   "outputs": [
    {
     "data": {
      "text/html": [
       "<div>\n",
       "<style scoped>\n",
       "    .dataframe tbody tr th:only-of-type {\n",
       "        vertical-align: middle;\n",
       "    }\n",
       "\n",
       "    .dataframe tbody tr th {\n",
       "        vertical-align: top;\n",
       "    }\n",
       "\n",
       "    .dataframe thead th {\n",
       "        text-align: right;\n",
       "    }\n",
       "</style>\n",
       "<table border=\"1\" class=\"dataframe\">\n",
       "  <thead>\n",
       "    <tr style=\"text-align: right;\">\n",
       "      <th></th>\n",
       "      <th>0</th>\n",
       "      <th>1</th>\n",
       "    </tr>\n",
       "  </thead>\n",
       "  <tbody>\n",
       "    <tr>\n",
       "      <th>Intercept</th>\n",
       "      <td>-6.299812e+07</td>\n",
       "      <td>8.585090e+07</td>\n",
       "    </tr>\n",
       "    <tr>\n",
       "      <th>StrokeKPI</th>\n",
       "      <td>-1.036950e+06</td>\n",
       "      <td>1.520307e+06</td>\n",
       "    </tr>\n",
       "  </tbody>\n",
       "</table>\n",
       "</div>"
      ],
      "text/plain": [
       "                      0             1\n",
       "Intercept -6.299812e+07  8.585090e+07\n",
       "StrokeKPI -1.036950e+06  1.520307e+06"
      ]
     },
     "execution_count": 67,
     "metadata": {},
     "output_type": "execute_result"
    }
   ],
   "source": [
    "lm1.conf_int()"
   ]
  },
  {
   "cell_type": "code",
   "execution_count": 68,
   "metadata": {},
   "outputs": [
    {
     "data": {
      "text/html": [
       "<div>\n",
       "<style scoped>\n",
       "    .dataframe tbody tr th:only-of-type {\n",
       "        vertical-align: middle;\n",
       "    }\n",
       "\n",
       "    .dataframe tbody tr th {\n",
       "        vertical-align: top;\n",
       "    }\n",
       "\n",
       "    .dataframe thead th {\n",
       "        text-align: right;\n",
       "    }\n",
       "</style>\n",
       "<table border=\"1\" class=\"dataframe\">\n",
       "  <thead>\n",
       "    <tr style=\"text-align: right;\">\n",
       "      <th></th>\n",
       "      <th>0</th>\n",
       "      <th>1</th>\n",
       "    </tr>\n",
       "  </thead>\n",
       "  <tbody>\n",
       "    <tr>\n",
       "      <th>Intercept</th>\n",
       "      <td>-1.273748e+08</td>\n",
       "      <td>1.899515e+08</td>\n",
       "    </tr>\n",
       "    <tr>\n",
       "      <th>CardiovascularKPI</th>\n",
       "      <td>-3.963409e+06</td>\n",
       "      <td>3.680604e+06</td>\n",
       "    </tr>\n",
       "  </tbody>\n",
       "</table>\n",
       "</div>"
      ],
      "text/plain": [
       "                              0             1\n",
       "Intercept         -1.273748e+08  1.899515e+08\n",
       "CardiovascularKPI -3.963409e+06  3.680604e+06"
      ]
     },
     "execution_count": 68,
     "metadata": {},
     "output_type": "execute_result"
    }
   ],
   "source": [
    "lm2.conf_int()"
   ]
  },
  {
   "cell_type": "code",
   "execution_count": 69,
   "metadata": {},
   "outputs": [
    {
     "data": {
      "text/html": [
       "<div>\n",
       "<style scoped>\n",
       "    .dataframe tbody tr th:only-of-type {\n",
       "        vertical-align: middle;\n",
       "    }\n",
       "\n",
       "    .dataframe tbody tr th {\n",
       "        vertical-align: top;\n",
       "    }\n",
       "\n",
       "    .dataframe thead th {\n",
       "        text-align: right;\n",
       "    }\n",
       "</style>\n",
       "<table border=\"1\" class=\"dataframe\">\n",
       "  <thead>\n",
       "    <tr style=\"text-align: right;\">\n",
       "      <th></th>\n",
       "      <th>0</th>\n",
       "      <th>1</th>\n",
       "    </tr>\n",
       "  </thead>\n",
       "  <tbody>\n",
       "    <tr>\n",
       "      <th>Intercept</th>\n",
       "      <td>-8.093267e+07</td>\n",
       "      <td>8.076689e+07</td>\n",
       "    </tr>\n",
       "    <tr>\n",
       "      <th>DiabetesKPI</th>\n",
       "      <td>-7.565372e+05</td>\n",
       "      <td>1.455897e+06</td>\n",
       "    </tr>\n",
       "  </tbody>\n",
       "</table>\n",
       "</div>"
      ],
      "text/plain": [
       "                        0             1\n",
       "Intercept   -8.093267e+07  8.076689e+07\n",
       "DiabetesKPI -7.565372e+05  1.455897e+06"
      ]
     },
     "execution_count": 69,
     "metadata": {},
     "output_type": "execute_result"
    }
   ],
   "source": [
    "lm3.conf_int()"
   ]
  },
  {
   "cell_type": "markdown",
   "metadata": {},
   "source": [
    "# Hypothesis Testing and p-values"
   ]
  },
  {
   "cell_type": "markdown",
   "metadata": {},
   "source": [
    "# - **null hypothesis:** There is no positive correlation between Diseases and Avocado Sales (and thus $\\beta_1$ equals zero)\n",
    "# - **alternative hypothesis:** There is a positive correlation between Diseases and Avocado Sales (and thus $\\beta_1$ is not equal to zero)"
   ]
  },
  {
   "cell_type": "code",
   "execution_count": 70,
   "metadata": {},
   "outputs": [
    {
     "data": {
      "text/plain": [
       "Intercept    0.301559\n",
       "StrokeKPI    0.251176\n",
       "dtype: float64"
      ]
     },
     "execution_count": 70,
     "metadata": {},
     "output_type": "execute_result"
    }
   ],
   "source": [
    "lm1.pvalues"
   ]
  },
  {
   "cell_type": "code",
   "execution_count": 71,
   "metadata": {},
   "outputs": [
    {
     "data": {
      "text/plain": [
       "Intercept            0.241741\n",
       "CardiovascularKPI    0.720247\n",
       "dtype: float64"
      ]
     },
     "execution_count": 71,
     "metadata": {},
     "output_type": "execute_result"
    }
   ],
   "source": [
    "lm2.pvalues"
   ]
  },
  {
   "cell_type": "code",
   "execution_count": 72,
   "metadata": {},
   "outputs": [
    {
     "data": {
      "text/plain": [
       "Intercept      0.991707\n",
       "DiabetesKPI    0.155343\n",
       "dtype: float64"
      ]
     },
     "execution_count": 72,
     "metadata": {},
     "output_type": "execute_result"
    }
   ],
   "source": [
    "lm3.pvalues"
   ]
  },
  {
   "cell_type": "markdown",
   "metadata": {},
   "source": [
    "\n",
    "# Not enough evidence to reject the null hypothesis and accept the claim, Because P-Value is not between 0.003 ~0.05\n",
    "\n",
    "============================================================================================="
   ]
  },
  {
   "cell_type": "markdown",
   "metadata": {},
   "source": [
    "# How Well Does the Model Fit the data? R-Squared"
   ]
  },
  {
   "cell_type": "code",
   "execution_count": 73,
   "metadata": {},
   "outputs": [
    {
     "data": {
      "text/plain": [
       "0.8522442543192159"
      ]
     },
     "execution_count": 73,
     "metadata": {},
     "output_type": "execute_result"
    }
   ],
   "source": [
    "lm1.rsquared"
   ]
  },
  {
   "cell_type": "code",
   "execution_count": 74,
   "metadata": {},
   "outputs": [
    {
     "data": {
      "text/plain": [
       "0.8522442543192159"
      ]
     },
     "execution_count": 74,
     "metadata": {},
     "output_type": "execute_result"
    }
   ],
   "source": [
    "Test2.score(x1,y1)"
   ]
  },
  {
   "cell_type": "code",
   "execution_count": 75,
   "metadata": {},
   "outputs": [
    {
     "data": {
      "text/plain": [
       "0.18098914254949983"
      ]
     },
     "execution_count": 75,
     "metadata": {},
     "output_type": "execute_result"
    }
   ],
   "source": [
    "lm2.rsquared"
   ]
  },
  {
   "cell_type": "code",
   "execution_count": 76,
   "metadata": {},
   "outputs": [
    {
     "data": {
      "text/plain": [
       "0.9416302521200374"
      ]
     },
     "execution_count": 76,
     "metadata": {},
     "output_type": "execute_result"
    }
   ],
   "source": [
    "lm3.rsquared"
   ]
  },
  {
   "cell_type": "markdown",
   "metadata": {},
   "source": [
    "## Multiple Linear Regression\n",
    "\n",
    "\n",
    "# $y = \\beta_0 + \\beta_1 \\times StrokeKPI + \\beta_2 \\times CVSKPI + \\beta_3 \\times DiabetesKPI$"
   ]
  },
  {
   "cell_type": "code",
   "execution_count": 77,
   "metadata": {},
   "outputs": [
    {
     "data": {
      "text/html": [
       "<div>\n",
       "<style scoped>\n",
       "    .dataframe tbody tr th:only-of-type {\n",
       "        vertical-align: middle;\n",
       "    }\n",
       "\n",
       "    .dataframe tbody tr th {\n",
       "        vertical-align: top;\n",
       "    }\n",
       "\n",
       "    .dataframe thead th {\n",
       "        text-align: right;\n",
       "    }\n",
       "</style>\n",
       "<table border=\"1\" class=\"dataframe\">\n",
       "  <thead>\n",
       "    <tr style=\"text-align: right;\">\n",
       "      <th></th>\n",
       "      <th>year</th>\n",
       "      <th>TotalVolume</th>\n",
       "      <th>StrokeKPI</th>\n",
       "      <th>CardiovascularKPI</th>\n",
       "      <th>DiabetesKPI</th>\n",
       "    </tr>\n",
       "  </thead>\n",
       "  <tbody>\n",
       "    <tr>\n",
       "      <th>0</th>\n",
       "      <td>2015</td>\n",
       "      <td>2.364509e+07</td>\n",
       "      <td>52</td>\n",
       "      <td>43</td>\n",
       "      <td>68</td>\n",
       "    </tr>\n",
       "    <tr>\n",
       "      <th>1</th>\n",
       "      <td>2016</td>\n",
       "      <td>2.614094e+07</td>\n",
       "      <td>58</td>\n",
       "      <td>45</td>\n",
       "      <td>76</td>\n",
       "    </tr>\n",
       "    <tr>\n",
       "      <th>2</th>\n",
       "      <td>2017</td>\n",
       "      <td>2.654523e+07</td>\n",
       "      <td>64</td>\n",
       "      <td>36</td>\n",
       "      <td>75</td>\n",
       "    </tr>\n",
       "  </tbody>\n",
       "</table>\n",
       "</div>"
      ],
      "text/plain": [
       "   year   TotalVolume  StrokeKPI  CardiovascularKPI  DiabetesKPI\n",
       "0  2015  2.364509e+07         52                 43           68\n",
       "1  2016  2.614094e+07         58                 45           76\n",
       "2  2017  2.654523e+07         64                 36           75"
      ]
     },
     "execution_count": 77,
     "metadata": {},
     "output_type": "execute_result"
    }
   ],
   "source": [
    "Test1"
   ]
  },
  {
   "cell_type": "code",
   "execution_count": 78,
   "metadata": {},
   "outputs": [
    {
     "data": {
      "text/plain": [
       "Intercept              7612.018702\n",
       "StrokeKPI            216130.526588\n",
       "CardiovascularKPI     84869.441939\n",
       "DiabetesKPI          128666.229693\n",
       "dtype: float64"
      ]
     },
     "execution_count": 78,
     "metadata": {},
     "output_type": "execute_result"
    }
   ],
   "source": [
    "lm4 = smf.ols(formula='TotalVolume~StrokeKPI+CardiovascularKPI+DiabetesKPI', data=Test1).fit()\n",
    "lm4.params"
   ]
  },
  {
   "cell_type": "code",
   "execution_count": 79,
   "metadata": {},
   "outputs": [
    {
     "name": "stdout",
     "output_type": "stream",
     "text": [
      "1366341.097284168\n",
      "[151604.72231351  35092.39292756 189504.84515203]\n"
     ]
    }
   ],
   "source": [
    "feature_4 = ['StrokeKPI','CardiovascularKPI','DiabetesKPI']\n",
    "x4 = Test1[feature_4]\n",
    "y4 = Test1['TotalVolume']\n",
    "\n",
    "# instantiate and fit\n",
    "Test5 = LinearRegression()\n",
    "Test5.fit(x4, y4)\n",
    "\n",
    "# print the coefficients\n",
    "print (Test5.intercept_)\n",
    "print (Test5.coef_)"
   ]
  },
  {
   "cell_type": "code",
   "execution_count": 80,
   "metadata": {},
   "outputs": [
    {
     "data": {
      "text/plain": [
       "[('StrokeKPI', 151604.7223135066),\n",
       " ('CardiovascularKPI', 35092.39292756185),\n",
       " ('DiabetesKPI', 189504.8451520272)]"
      ]
     },
     "execution_count": 80,
     "metadata": {},
     "output_type": "execute_result"
    }
   ],
   "source": [
    "zip(feature_4, Test5.coef_)"
   ]
  },
  {
   "cell_type": "markdown",
   "metadata": {},
   "source": [
    "# For a given amount of CVSKPI and DiabetesKPI, an increase of 1 in StrokeKPI is associated with an increase in Avocado Sales of 151,604 in US\n",
    "# An increase of 1 in CVSKPI is associated with an increase in Avocado Sales of 35,092 in US\n",
    "# An increase of 1 in DiabetesKPI is associated with an increase in Avocado Sales of 189,504 in US"
   ]
  },
  {
   "cell_type": "code",
   "execution_count": 82,
   "metadata": {},
   "outputs": [
    {
     "name": "stderr",
     "output_type": "stream",
     "text": [
      "C:\\Users\\RChang\\AppData\\Local\\Continuum\\anaconda2\\lib\\site-packages\\statsmodels\\stats\\stattools.py:72: ValueWarning: omni_normtest is not valid with less than 8 observations; 3 samples were given.\n",
      "  \"samples were given.\" % int(n), ValueWarning)\n"
     ]
    },
    {
     "data": {
      "text/html": [
       "<table class=\"simpletable\">\n",
       "<caption>OLS Regression Results</caption>\n",
       "<tr>\n",
       "  <th>Dep. Variable:</th>       <td>TotalVolume</td>   <th>  R-squared:         </th> <td>   0.852</td>\n",
       "</tr>\n",
       "<tr>\n",
       "  <th>Model:</th>                   <td>OLS</td>       <th>  Adj. R-squared:    </th> <td>   0.704</td>\n",
       "</tr>\n",
       "<tr>\n",
       "  <th>Method:</th>             <td>Least Squares</td>  <th>  F-statistic:       </th> <td>   5.768</td>\n",
       "</tr>\n",
       "<tr>\n",
       "  <th>Date:</th>             <td>Fri, 26 Oct 2018</td> <th>  Prob (F-statistic):</th>  <td> 0.251</td> \n",
       "</tr>\n",
       "<tr>\n",
       "  <th>Time:</th>                 <td>11:48:26</td>     <th>  Log-Likelihood:    </th> <td> -43.582</td>\n",
       "</tr>\n",
       "<tr>\n",
       "  <th>No. Observations:</th>      <td>     3</td>      <th>  AIC:               </th> <td>   91.16</td>\n",
       "</tr>\n",
       "<tr>\n",
       "  <th>Df Residuals:</th>          <td>     1</td>      <th>  BIC:               </th> <td>   89.36</td>\n",
       "</tr>\n",
       "<tr>\n",
       "  <th>Df Model:</th>              <td>     1</td>      <th>                     </th>     <td> </td>   \n",
       "</tr>\n",
       "<tr>\n",
       "  <th>Covariance Type:</th>      <td>nonrobust</td>    <th>                     </th>     <td> </td>   \n",
       "</tr>\n",
       "</table>\n",
       "<table class=\"simpletable\">\n",
       "<tr>\n",
       "      <td></td>         <th>coef</th>     <th>std err</th>      <th>t</th>      <th>P>|t|</th>  <th>[0.025</th>    <th>0.975]</th>  \n",
       "</tr>\n",
       "<tr>\n",
       "  <th>Intercept</th> <td> 1.143e+07</td> <td> 5.86e+06</td> <td>    1.951</td> <td> 0.302</td> <td> -6.3e+07</td> <td> 8.59e+07</td>\n",
       "</tr>\n",
       "<tr>\n",
       "  <th>StrokeKPI</th> <td> 2.417e+05</td> <td> 1.01e+05</td> <td>    2.402</td> <td> 0.251</td> <td>-1.04e+06</td> <td> 1.52e+06</td>\n",
       "</tr>\n",
       "</table>\n",
       "<table class=\"simpletable\">\n",
       "<tr>\n",
       "  <th>Omnibus:</th>       <td>   nan</td> <th>  Durbin-Watson:     </th> <td>   3.000</td>\n",
       "</tr>\n",
       "<tr>\n",
       "  <th>Prob(Omnibus):</th> <td>   nan</td> <th>  Jarque-Bera (JB):  </th> <td>   0.531</td>\n",
       "</tr>\n",
       "<tr>\n",
       "  <th>Skew:</th>          <td> 0.707</td> <th>  Prob(JB):          </th> <td>   0.767</td>\n",
       "</tr>\n",
       "<tr>\n",
       "  <th>Kurtosis:</th>      <td> 1.500</td> <th>  Cond. No.          </th> <td>    692.</td>\n",
       "</tr>\n",
       "</table><br/><br/>Warnings:<br/>[1] Standard Errors assume that the covariance matrix of the errors is correctly specified."
      ],
      "text/plain": [
       "<class 'statsmodels.iolib.summary.Summary'>\n",
       "\"\"\"\n",
       "                            OLS Regression Results                            \n",
       "==============================================================================\n",
       "Dep. Variable:            TotalVolume   R-squared:                       0.852\n",
       "Model:                            OLS   Adj. R-squared:                  0.704\n",
       "Method:                 Least Squares   F-statistic:                     5.768\n",
       "Date:                Fri, 26 Oct 2018   Prob (F-statistic):              0.251\n",
       "Time:                        11:48:26   Log-Likelihood:                -43.582\n",
       "No. Observations:                   3   AIC:                             91.16\n",
       "Df Residuals:                       1   BIC:                             89.36\n",
       "Df Model:                           1                                         \n",
       "Covariance Type:            nonrobust                                         \n",
       "==============================================================================\n",
       "                 coef    std err          t      P>|t|      [0.025      0.975]\n",
       "------------------------------------------------------------------------------\n",
       "Intercept   1.143e+07   5.86e+06      1.951      0.302    -6.3e+07    8.59e+07\n",
       "StrokeKPI   2.417e+05   1.01e+05      2.402      0.251   -1.04e+06    1.52e+06\n",
       "==============================================================================\n",
       "Omnibus:                          nan   Durbin-Watson:                   3.000\n",
       "Prob(Omnibus):                    nan   Jarque-Bera (JB):                0.531\n",
       "Skew:                           0.707   Prob(JB):                        0.767\n",
       "Kurtosis:                       1.500   Cond. No.                         692.\n",
       "==============================================================================\n",
       "\n",
       "Warnings:\n",
       "[1] Standard Errors assume that the covariance matrix of the errors is correctly specified.\n",
       "\"\"\""
      ]
     },
     "execution_count": 82,
     "metadata": {},
     "output_type": "execute_result"
    }
   ],
   "source": [
    "lm1.summary()  #Stroke vs Sales"
   ]
  },
  {
   "cell_type": "code",
   "execution_count": 83,
   "metadata": {},
   "outputs": [
    {
     "name": "stderr",
     "output_type": "stream",
     "text": [
      "C:\\Users\\RChang\\AppData\\Local\\Continuum\\anaconda2\\lib\\site-packages\\statsmodels\\stats\\stattools.py:72: ValueWarning: omni_normtest is not valid with less than 8 observations; 3 samples were given.\n",
      "  \"samples were given.\" % int(n), ValueWarning)\n"
     ]
    },
    {
     "data": {
      "text/html": [
       "<table class=\"simpletable\">\n",
       "<caption>OLS Regression Results</caption>\n",
       "<tr>\n",
       "  <th>Dep. Variable:</th>       <td>TotalVolume</td>   <th>  R-squared:         </th> <td>   0.181</td>\n",
       "</tr>\n",
       "<tr>\n",
       "  <th>Model:</th>                   <td>OLS</td>       <th>  Adj. R-squared:    </th> <td>  -0.638</td>\n",
       "</tr>\n",
       "<tr>\n",
       "  <th>Method:</th>             <td>Least Squares</td>  <th>  F-statistic:       </th> <td>  0.2210</td>\n",
       "</tr>\n",
       "<tr>\n",
       "  <th>Date:</th>             <td>Fri, 26 Oct 2018</td> <th>  Prob (F-statistic):</th>  <td> 0.720</td> \n",
       "</tr>\n",
       "<tr>\n",
       "  <th>Time:</th>                 <td>11:48:26</td>     <th>  Log-Likelihood:    </th> <td> -46.150</td>\n",
       "</tr>\n",
       "<tr>\n",
       "  <th>No. Observations:</th>      <td>     3</td>      <th>  AIC:               </th> <td>   96.30</td>\n",
       "</tr>\n",
       "<tr>\n",
       "  <th>Df Residuals:</th>          <td>     1</td>      <th>  BIC:               </th> <td>   94.50</td>\n",
       "</tr>\n",
       "<tr>\n",
       "  <th>Df Model:</th>              <td>     1</td>      <th>                     </th>     <td> </td>   \n",
       "</tr>\n",
       "<tr>\n",
       "  <th>Covariance Type:</th>      <td>nonrobust</td>    <th>                     </th>     <td> </td>   \n",
       "</tr>\n",
       "</table>\n",
       "<table class=\"simpletable\">\n",
       "<tr>\n",
       "          <td></td>             <th>coef</th>     <th>std err</th>      <th>t</th>      <th>P>|t|</th>  <th>[0.025</th>    <th>0.975]</th>  \n",
       "</tr>\n",
       "<tr>\n",
       "  <th>Intercept</th>         <td> 3.129e+07</td> <td> 1.25e+07</td> <td>    2.506</td> <td> 0.242</td> <td>-1.27e+08</td> <td>  1.9e+08</td>\n",
       "</tr>\n",
       "<tr>\n",
       "  <th>CardiovascularKPI</th> <td>-1.414e+05</td> <td> 3.01e+05</td> <td>   -0.470</td> <td> 0.720</td> <td>-3.96e+06</td> <td> 3.68e+06</td>\n",
       "</tr>\n",
       "</table>\n",
       "<table class=\"simpletable\">\n",
       "<tr>\n",
       "  <th>Omnibus:</th>       <td>   nan</td> <th>  Durbin-Watson:     </th> <td>   2.097</td>\n",
       "</tr>\n",
       "<tr>\n",
       "  <th>Prob(Omnibus):</th> <td>   nan</td> <th>  Jarque-Bera (JB):  </th> <td>   0.370</td>\n",
       "</tr>\n",
       "<tr>\n",
       "  <th>Skew:</th>          <td>-0.422</td> <th>  Prob(JB):          </th> <td>   0.831</td>\n",
       "</tr>\n",
       "<tr>\n",
       "  <th>Kurtosis:</th>      <td> 1.500</td> <th>  Cond. No.          </th> <td>    447.</td>\n",
       "</tr>\n",
       "</table><br/><br/>Warnings:<br/>[1] Standard Errors assume that the covariance matrix of the errors is correctly specified."
      ],
      "text/plain": [
       "<class 'statsmodels.iolib.summary.Summary'>\n",
       "\"\"\"\n",
       "                            OLS Regression Results                            \n",
       "==============================================================================\n",
       "Dep. Variable:            TotalVolume   R-squared:                       0.181\n",
       "Model:                            OLS   Adj. R-squared:                 -0.638\n",
       "Method:                 Least Squares   F-statistic:                    0.2210\n",
       "Date:                Fri, 26 Oct 2018   Prob (F-statistic):              0.720\n",
       "Time:                        11:48:26   Log-Likelihood:                -46.150\n",
       "No. Observations:                   3   AIC:                             96.30\n",
       "Df Residuals:                       1   BIC:                             94.50\n",
       "Df Model:                           1                                         \n",
       "Covariance Type:            nonrobust                                         \n",
       "=====================================================================================\n",
       "                        coef    std err          t      P>|t|      [0.025      0.975]\n",
       "-------------------------------------------------------------------------------------\n",
       "Intercept          3.129e+07   1.25e+07      2.506      0.242   -1.27e+08     1.9e+08\n",
       "CardiovascularKPI -1.414e+05   3.01e+05     -0.470      0.720   -3.96e+06    3.68e+06\n",
       "==============================================================================\n",
       "Omnibus:                          nan   Durbin-Watson:                   2.097\n",
       "Prob(Omnibus):                    nan   Jarque-Bera (JB):                0.370\n",
       "Skew:                          -0.422   Prob(JB):                        0.831\n",
       "Kurtosis:                       1.500   Cond. No.                         447.\n",
       "==============================================================================\n",
       "\n",
       "Warnings:\n",
       "[1] Standard Errors assume that the covariance matrix of the errors is correctly specified.\n",
       "\"\"\""
      ]
     },
     "execution_count": 83,
     "metadata": {},
     "output_type": "execute_result"
    }
   ],
   "source": [
    "lm2.summary()  #CVS vs Sales"
   ]
  },
  {
   "cell_type": "code",
   "execution_count": 84,
   "metadata": {},
   "outputs": [
    {
     "name": "stderr",
     "output_type": "stream",
     "text": [
      "C:\\Users\\RChang\\AppData\\Local\\Continuum\\anaconda2\\lib\\site-packages\\statsmodels\\stats\\stattools.py:72: ValueWarning: omni_normtest is not valid with less than 8 observations; 3 samples were given.\n",
      "  \"samples were given.\" % int(n), ValueWarning)\n"
     ]
    },
    {
     "data": {
      "text/html": [
       "<table class=\"simpletable\">\n",
       "<caption>OLS Regression Results</caption>\n",
       "<tr>\n",
       "  <th>Dep. Variable:</th>       <td>TotalVolume</td>   <th>  R-squared:         </th> <td>   0.942</td>\n",
       "</tr>\n",
       "<tr>\n",
       "  <th>Model:</th>                   <td>OLS</td>       <th>  Adj. R-squared:    </th> <td>   0.883</td>\n",
       "</tr>\n",
       "<tr>\n",
       "  <th>Method:</th>             <td>Least Squares</td>  <th>  F-statistic:       </th> <td>   16.13</td>\n",
       "</tr>\n",
       "<tr>\n",
       "  <th>Date:</th>             <td>Fri, 26 Oct 2018</td> <th>  Prob (F-statistic):</th>  <td> 0.155</td> \n",
       "</tr>\n",
       "<tr>\n",
       "  <th>Time:</th>                 <td>11:48:26</td>     <th>  Log-Likelihood:    </th> <td> -42.188</td>\n",
       "</tr>\n",
       "<tr>\n",
       "  <th>No. Observations:</th>      <td>     3</td>      <th>  AIC:               </th> <td>   88.38</td>\n",
       "</tr>\n",
       "<tr>\n",
       "  <th>Df Residuals:</th>          <td>     1</td>      <th>  BIC:               </th> <td>   86.57</td>\n",
       "</tr>\n",
       "<tr>\n",
       "  <th>Df Model:</th>              <td>     1</td>      <th>                     </th>     <td> </td>   \n",
       "</tr>\n",
       "<tr>\n",
       "  <th>Covariance Type:</th>      <td>nonrobust</td>    <th>                     </th>     <td> </td>   \n",
       "</tr>\n",
       "</table>\n",
       "<table class=\"simpletable\">\n",
       "<tr>\n",
       "       <td></td>          <th>coef</th>     <th>std err</th>      <th>t</th>      <th>P>|t|</th>  <th>[0.025</th>    <th>0.975]</th>  \n",
       "</tr>\n",
       "<tr>\n",
       "  <th>Intercept</th>   <td>-8.289e+04</td> <td> 6.36e+06</td> <td>   -0.013</td> <td> 0.992</td> <td>-8.09e+07</td> <td> 8.08e+07</td>\n",
       "</tr>\n",
       "<tr>\n",
       "  <th>DiabetesKPI</th> <td> 3.497e+05</td> <td> 8.71e+04</td> <td>    4.016</td> <td> 0.155</td> <td>-7.57e+05</td> <td> 1.46e+06</td>\n",
       "</tr>\n",
       "</table>\n",
       "<table class=\"simpletable\">\n",
       "<tr>\n",
       "  <th>Omnibus:</th>       <td>   nan</td> <th>  Durbin-Watson:     </th> <td>   2.289</td>\n",
       "</tr>\n",
       "<tr>\n",
       "  <th>Prob(Omnibus):</th> <td>   nan</td> <th>  Jarque-Bera (JB):  </th> <td>   0.310</td>\n",
       "</tr>\n",
       "<tr>\n",
       "  <th>Skew:</th>          <td> 0.239</td> <th>  Prob(JB):          </th> <td>   0.856</td>\n",
       "</tr>\n",
       "<tr>\n",
       "  <th>Kurtosis:</th>      <td> 1.500</td> <th>  Cond. No.          </th> <td>1.50e+03</td>\n",
       "</tr>\n",
       "</table><br/><br/>Warnings:<br/>[1] Standard Errors assume that the covariance matrix of the errors is correctly specified.<br/>[2] The condition number is large, 1.5e+03. This might indicate that there are<br/>strong multicollinearity or other numerical problems."
      ],
      "text/plain": [
       "<class 'statsmodels.iolib.summary.Summary'>\n",
       "\"\"\"\n",
       "                            OLS Regression Results                            \n",
       "==============================================================================\n",
       "Dep. Variable:            TotalVolume   R-squared:                       0.942\n",
       "Model:                            OLS   Adj. R-squared:                  0.883\n",
       "Method:                 Least Squares   F-statistic:                     16.13\n",
       "Date:                Fri, 26 Oct 2018   Prob (F-statistic):              0.155\n",
       "Time:                        11:48:26   Log-Likelihood:                -42.188\n",
       "No. Observations:                   3   AIC:                             88.38\n",
       "Df Residuals:                       1   BIC:                             86.57\n",
       "Df Model:                           1                                         \n",
       "Covariance Type:            nonrobust                                         \n",
       "===============================================================================\n",
       "                  coef    std err          t      P>|t|      [0.025      0.975]\n",
       "-------------------------------------------------------------------------------\n",
       "Intercept   -8.289e+04   6.36e+06     -0.013      0.992   -8.09e+07    8.08e+07\n",
       "DiabetesKPI  3.497e+05   8.71e+04      4.016      0.155   -7.57e+05    1.46e+06\n",
       "==============================================================================\n",
       "Omnibus:                          nan   Durbin-Watson:                   2.289\n",
       "Prob(Omnibus):                    nan   Jarque-Bera (JB):                0.310\n",
       "Skew:                           0.239   Prob(JB):                        0.856\n",
       "Kurtosis:                       1.500   Cond. No.                     1.50e+03\n",
       "==============================================================================\n",
       "\n",
       "Warnings:\n",
       "[1] Standard Errors assume that the covariance matrix of the errors is correctly specified.\n",
       "[2] The condition number is large, 1.5e+03. This might indicate that there are\n",
       "strong multicollinearity or other numerical problems.\n",
       "\"\"\""
      ]
     },
     "execution_count": 84,
     "metadata": {},
     "output_type": "execute_result"
    }
   ],
   "source": [
    "lm3.summary()    #Diabetes vs Sales"
   ]
  },
  {
   "cell_type": "markdown",
   "metadata": {},
   "source": [
    "# from this output?\n",
    "\n",
    "# - Storke and Diabetes KPIs are both **positively associated** with Sales, buth they are only **very slightly positively associated** with Sales \n"
   ]
  },
  {
   "cell_type": "markdown",
   "metadata": {},
   "source": [
    "=============================================================================================="
   ]
  },
  {
   "cell_type": "markdown",
   "metadata": {},
   "source": [
    "# Model Evaluation Using Train/Test Split"
   ]
  },
  {
   "cell_type": "code",
   "execution_count": 85,
   "metadata": {},
   "outputs": [
    {
     "name": "stdout",
     "output_type": "stream",
     "text": [
      "2461589.8510895893\n"
     ]
    }
   ],
   "source": [
    "x5 = Test1[['StrokeKPI','CardiovascularKPI','DiabetesKPI']]\n",
    "y5 = Test1['TotalVolume']\n",
    "x5_train, x5_test, y5_train, y5_test = train_test_split(x5, y5, random_state=1)\n",
    "lm6 = LinearRegression()\n",
    "lm6.fit(x5_train, y5_train)\n",
    "y5_pred = lm6.predict(x5_test)\n",
    "print np.sqrt(metrics.mean_squared_error(y5_test, y5_pred))"
   ]
  },
  {
   "cell_type": "markdown",
   "metadata": {},
   "source": [
    "# 2,461,589 is the difference between the actual observations and the observation values predicted by the model"
   ]
  },
  {
   "cell_type": "markdown",
   "metadata": {},
   "source": [
    "==============================================================================================="
   ]
  },
  {
   "cell_type": "markdown",
   "metadata": {},
   "source": [
    "# Let's remove some of the variables, see if it will change the the model's predictive ability"
   ]
  },
  {
   "cell_type": "code",
   "execution_count": 86,
   "metadata": {},
   "outputs": [
    {
     "name": "stdout",
     "output_type": "stream",
     "text": [
      "2189901.2142857127\n"
     ]
    }
   ],
   "source": [
    "x5 = Test1[['StrokeKPI','DiabetesKPI']]\n",
    "y5 = Test1['TotalVolume']\n",
    "x5_train, x5_test, y5_train, y5_test = train_test_split(x5, y5, random_state=1)\n",
    "lm6 = LinearRegression()\n",
    "lm6.fit(x5_train, y5_train)\n",
    "y5_pred = lm6.predict(x5_test)\n",
    "print np.sqrt(metrics.mean_squared_error(y5_test, y5_pred))"
   ]
  },
  {
   "cell_type": "code",
   "execution_count": 87,
   "metadata": {},
   "outputs": [
    {
     "name": "stdout",
     "output_type": "stream",
     "text": [
      "2433653.1190476157\n"
     ]
    }
   ],
   "source": [
    "x5 = Test1[['StrokeKPI','CardiovascularKPI']]\n",
    "y5 = Test1['TotalVolume']\n",
    "x5_train, x5_test, y5_train, y5_test = train_test_split(x5, y5, random_state=1)\n",
    "lm6 = LinearRegression()\n",
    "lm6.fit(x5_train, y5_train)\n",
    "y5_pred = lm6.predict(x5_test)\n",
    "print np.sqrt(metrics.mean_squared_error(y5_test, y5_pred))"
   ]
  },
  {
   "cell_type": "code",
   "execution_count": 88,
   "metadata": {},
   "outputs": [
    {
     "name": "stdout",
     "output_type": "stream",
     "text": [
      "2624042.012195125\n"
     ]
    }
   ],
   "source": [
    "x5 = Test1[['CardiovascularKPI','DiabetesKPI']]\n",
    "y5 = Test1['TotalVolume']\n",
    "x5_train, x5_test, y5_train, y5_test = train_test_split(x5, y5, random_state=1)\n",
    "lm6 = LinearRegression()\n",
    "lm6.fit(x5_train, y5_train)\n",
    "y5_pred = lm6.predict(x5_test)\n",
    "print np.sqrt(metrics.mean_squared_error(y5_test, y5_pred))"
   ]
  },
  {
   "cell_type": "markdown",
   "metadata": {},
   "source": [
    "# The difference between the actual observations and the observation values predicted by the model is still huge, regardless which variables removed\n",
    "# So we can safely say that there's no strong correlation between Avocado Sales and Health KPIs"
   ]
  },
  {
   "cell_type": "markdown",
   "metadata": {},
   "source": [
    "# However, with more data come in the future, it might start showing a positive correlation"
   ]
  },
  {
   "cell_type": "code",
   "execution_count": null,
   "metadata": {},
   "outputs": [],
   "source": []
  },
  {
   "cell_type": "code",
   "execution_count": null,
   "metadata": {},
   "outputs": [],
   "source": []
  },
  {
   "cell_type": "code",
   "execution_count": null,
   "metadata": {},
   "outputs": [],
   "source": []
  },
  {
   "cell_type": "code",
   "execution_count": null,
   "metadata": {},
   "outputs": [],
   "source": []
  }
 ],
 "metadata": {
  "kernelspec": {
   "display_name": "Python 2",
   "language": "python",
   "name": "python2"
  },
  "language_info": {
   "codemirror_mode": {
    "name": "ipython",
    "version": 2
   },
   "file_extension": ".py",
   "mimetype": "text/x-python",
   "name": "python",
   "nbconvert_exporter": "python",
   "pygments_lexer": "ipython2",
   "version": "2.7.15"
  }
 },
 "nbformat": 4,
 "nbformat_minor": 2
}
